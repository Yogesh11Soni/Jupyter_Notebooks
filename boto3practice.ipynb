{
 "cells": [
  {
   "cell_type": "code",
   "execution_count": 1,
   "metadata": {},
   "outputs": [
    {
     "name": "stdout",
     "output_type": "stream",
     "text": [
      "Defaulting to user installation because normal site-packages is not writeable\n",
      "Requirement already satisfied: python-decouple in /home/yogeshsoni/.local/lib/python3.8/site-packages (3.6)\n",
      "\u001b[33mWARNING: There was an error checking the latest version of pip.\u001b[0m\u001b[33m\n",
      "\u001b[0mNote: you may need to restart the kernel to use updated packages.\n"
     ]
    }
   ],
   "source": [
    "pip install python-decouple"
   ]
  },
  {
   "cell_type": "code",
   "execution_count": 2,
   "metadata": {},
   "outputs": [],
   "source": [
    "import boto3\n",
    "from decouple import AutoConfig"
   ]
  },
  {
   "cell_type": "code",
   "execution_count": null,
   "metadata": {},
   "outputs": [],
   "source": [
    "import boto3\n",
    "# aws_client = boto3.client('cognito-idp', \n",
    "#     region_name = CONFIG[\"cognito\"][\"region\"]\n",
    "# )\n",
    "cog = boto3.resource('cognito-idp',aws_access_key_id=config('aws_access_key_id',cast=str),aws_secret_access_key=config('aws_secret_access_key',cast=str))\n",
    "response = aws_client.admin_create_user(\n",
    "    UserPoolId = CONFIG[\"cognito\"][\"pool_id\"],\n",
    "    Username = email, \n",
    "    UserAttributes = [\n",
    "        {\"Name\": \"first_name\", \"Value\": first_name},\n",
    "        {\"Name\": \"last_name\", \"Value\": last_name},\n",
    "        { \"Name\": \"email_verified\", \"Value\": \"true\" }\n",
    "    ],\n",
    "    DesiredDeliveryMediums = ['EMAIL']\n",
    ")"
   ]
  },
  {
   "cell_type": "code",
   "execution_count": null,
   "metadata": {},
   "outputs": [],
   "source": []
  },
  {
   "cell_type": "code",
   "execution_count": 9,
   "metadata": {},
   "outputs": [],
   "source": [
    "config = AutoConfig(search_path='./')"
   ]
  },
  {
   "cell_type": "code",
   "execution_count": 6,
   "metadata": {},
   "outputs": [
    {
     "data": {
      "text/plain": [
       "s3.ServiceResource()"
      ]
     },
     "execution_count": 6,
     "metadata": {},
     "output_type": "execute_result"
    }
   ],
   "source": [
    "s3 = boto3.resource('s3',aws_access_key_id=config('aws_access_key_id',cast=str),aws_secret_access_key=config('aws_secret_access_key',cast=str))\n",
    "s3"
   ]
  },
  {
   "cell_type": "code",
   "execution_count": 9,
   "metadata": {},
   "outputs": [
    {
     "data": {
      "text/plain": [
       "s3.Bucket(name='chachakibucket')"
      ]
     },
     "execution_count": 9,
     "metadata": {},
     "output_type": "execute_result"
    }
   ],
   "source": [
    "s3.create_bucket(Bucket='chachakibucket')"
   ]
  },
  {
   "cell_type": "code",
   "execution_count": 16,
   "metadata": {},
   "outputs": [
    {
     "data": {
      "text/plain": [
       "{'ResponseMetadata': {'RequestId': '8VK7X1RGS0NKXZNC',\n",
       "  'HostId': 'WVFZ7hzqh/hREraOjqZdy0ZP5fsw+Z5PSoMd+RjRFBvGj55YerTxtyL6asN3qCFBqY+j8vi7Doc=',\n",
       "  'HTTPStatusCode': 200,\n",
       "  'HTTPHeaders': {'x-amz-id-2': 'WVFZ7hzqh/hREraOjqZdy0ZP5fsw+Z5PSoMd+RjRFBvGj55YerTxtyL6asN3qCFBqY+j8vi7Doc=',\n",
       "   'x-amz-request-id': '8VK7X1RGS0NKXZNC',\n",
       "   'date': 'Sun, 12 Jun 2022 16:16:10 GMT',\n",
       "   'content-type': 'application/xml',\n",
       "   'transfer-encoding': 'chunked',\n",
       "   'server': 'AmazonS3'},\n",
       "  'RetryAttempts': 0},\n",
       " 'Buckets': [{'Name': 'chachakibucket',\n",
       "   'CreationDate': datetime.datetime(2022, 6, 12, 16, 8, 2, tzinfo=tzutc())}],\n",
       " 'Owner': {'DisplayName': 'y.yogi95',\n",
       "  'ID': '79d2b4a105de2f292051520bf72a00394baaf6aedb1d4ec059deef9fddd725a2'}}"
      ]
     },
     "execution_count": 16,
     "metadata": {},
     "output_type": "execute_result"
    }
   ],
   "source": [
    "client = boto3.client('s3',aws_access_key_id=config('aws_access_key_id',cast=str),aws_secret_access_key=config('aws_secret_access_key',cast=str))\n",
    "client.list_buckets()"
   ]
  },
  {
   "cell_type": "code",
   "execution_count": 45,
   "metadata": {},
   "outputs": [],
   "source": [
    "def Upload_files(file_name,bucket_name,file_name_on_bucket=None,args=None):\n",
    "    if file_name_on_bucket == None:\n",
    "        file_name_on_bucket=file_name\n",
    "    res = client.upload_file(file_name,bucket_name,file_name_on_bucket,{'ACL':'public-read'})\n",
    "    return res"
   ]
  },
  {
   "cell_type": "code",
   "execution_count": 47,
   "metadata": {},
   "outputs": [
    {
     "name": "stdout",
     "output_type": "stream",
     "text": [
      "None\n"
     ]
    }
   ],
   "source": [
    "res = Upload_files('dogforchacha.jpeg','chachakibucket','kuttaforchacha.jpeg')\n",
    "print(res)"
   ]
  },
  {
   "cell_type": "code",
   "execution_count": 44,
   "metadata": {},
   "outputs": [
    {
     "data": {
      "text/plain": [
       "['aws backchodi\\\\login.html',\n",
       " 'aws backchodi\\\\logout.html',\n",
       " 'aws backchodi\\\\welcome.html']"
      ]
     },
     "execution_count": 44,
     "metadata": {},
     "output_type": "execute_result"
    }
   ],
   "source": [
    "import glob\n",
    "\n",
    "files = glob.glob('aws backchodi/*')\n",
    "files"
   ]
  },
  {
   "cell_type": "code",
   "execution_count": 46,
   "metadata": {},
   "outputs": [
    {
     "name": "stdout",
     "output_type": "stream",
     "text": [
      "None\n",
      "None\n",
      "None\n"
     ]
    }
   ],
   "source": [
    "for file in files:\n",
    "    res = Upload_files(file,'chachakibucket')\n",
    "    print(res)"
   ]
  },
  {
   "cell_type": "code",
   "execution_count": 49,
   "metadata": {},
   "outputs": [
    {
     "name": "stdout",
     "output_type": "stream",
     "text": [
      "s3.Bucket(name='chachakibucket')\n"
     ]
    }
   ],
   "source": [
    "for i in s3.buckets.all():\n",
    "    print(i)"
   ]
  },
  {
   "cell_type": "code",
   "execution_count": 58,
   "metadata": {},
   "outputs": [
    {
     "name": "stdout",
     "output_type": "stream",
     "text": [
      "aws backchodi\\login.html\n",
      "None\n",
      "aws backchodi\\logout.html\n",
      "None\n",
      "aws backchodi\\welcome.html\n",
      "None\n",
      "dogforchacha.jpeg\n",
      "None\n",
      "kuttaforchacha.jpeg\n",
      "None\n"
     ]
    }
   ],
   "source": [
    "bucket = s3.Bucket('chachakibucket')\n",
    "files =  bucket.objects.all()\n",
    "for file in files:\n",
    "    print(file.key)\n",
    "    res = client.download_file('chachakibucket',file.key,file.key)\n",
    "    print(res)"
   ]
  },
  {
   "cell_type": "code",
   "execution_count": 54,
   "metadata": {},
   "outputs": [
    {
     "name": "stdout",
     "output_type": "stream",
     "text": [
      "None\n"
     ]
    }
   ],
   "source": [
    "print(res)"
   ]
  },
  {
   "cell_type": "markdown",
   "metadata": {},
   "source": [
    "## Bucket Policy\n",
    "\n",
    "```\n",
    "{\n",
    "    \"Version\": \"2012-10-17\",\n",
    "    \"Statement\": [\n",
    "        {\n",
    "            \"Sid\": \"PublicRead\",\n",
    "            \"Effect\": \"Allow\",\n",
    "            \"Principal\": \"*\",\n",
    "            \"Action\": [\n",
    "                \"s3:GetObject\",\n",
    "                \"s3:GetObjectVersion\"\n",
    "            ],\n",
    "            \"Resource\": [\n",
    "                \"arn:aws:s3:::DOC-EXAMPLE-BUCKET/*\"\n",
    "            ]\n",
    "        }\n",
    "    ]\n",
    "}\n",
    "```"
   ]
  },
  {
   "cell_type": "code",
   "execution_count": 63,
   "metadata": {},
   "outputs": [],
   "source": [
    "import json\n",
    "\n",
    "bucket_policy = {\n",
    "    \"Version\": \"2012-10-17\",\n",
    "    \"Statement\": [\n",
    "        {\n",
    "            \"Sid\": \"PublicRead\",\n",
    "            \"Effect\": \"Allow\",\n",
    "            \"Principal\": \"*\",\n",
    "            \"Action\": [\n",
    "                \"s3:GetObject\",\n",
    "                \"s3:GetObjectVersion\"\n",
    "            ],\n",
    "            \"Resource\": [\n",
    "                \"arn:aws:s3:::chachakibucket/*\"\n",
    "            ]\n",
    "        }\n",
    "    ]\n",
    "}\n",
    "\n",
    "\n",
    "\n",
    "bucket_policy = json.dumps(bucket_policy)"
   ]
  },
  {
   "cell_type": "code",
   "execution_count": 64,
   "metadata": {},
   "outputs": [
    {
     "name": "stdout",
     "output_type": "stream",
     "text": [
      "{\"Version\": \"2012-10-17\", \"Statement\": [{\"Sid\": \"PublicRead\", \"Effect\": \"Allow\", \"Principal\": \"*\", \"Action\": [\"s3:GetObject\", \"s3:GetObjectVersion\"], \"Resource\": [\"arn:aws:s3:::chachakibucket/*\"]}]}\n"
     ]
    }
   ],
   "source": [
    "print(bucket_policy)"
   ]
  },
  {
   "cell_type": "code",
   "execution_count": 65,
   "metadata": {},
   "outputs": [
    {
     "data": {
      "text/plain": [
       "{'ResponseMetadata': {'RequestId': '2NYWD819ZV4X8F0X',\n",
       "  'HostId': 'cpmyKAXD7IJu05CVYLuEU72PKKpfmeVKPSbFA57QQt3zl11YOJQXR1Myuo05TfGs+0EVL3iSkn8=',\n",
       "  'HTTPStatusCode': 204,\n",
       "  'HTTPHeaders': {'x-amz-id-2': 'cpmyKAXD7IJu05CVYLuEU72PKKpfmeVKPSbFA57QQt3zl11YOJQXR1Myuo05TfGs+0EVL3iSkn8=',\n",
       "   'x-amz-request-id': '2NYWD819ZV4X8F0X',\n",
       "   'date': 'Sun, 12 Jun 2022 17:27:11 GMT',\n",
       "   'server': 'AmazonS3'},\n",
       "  'RetryAttempts': 0}}"
      ]
     },
     "execution_count": 65,
     "metadata": {},
     "output_type": "execute_result"
    }
   ],
   "source": [
    "client.put_bucket_policy(Bucket = 'chachakibucket', Policy=bucket_policy)"
   ]
  },
  {
   "cell_type": "code",
   "execution_count": 66,
   "metadata": {},
   "outputs": [
    {
     "data": {
      "text/plain": [
       "{'ResponseMetadata': {'RequestId': 'JAA6XEK2JCCRWXR3',\n",
       "  'HostId': 'J9xfDkBIGWXxlETdsum3+OCMft4gXcyP6rQwR/8zXVrS9LJptMLjHuuVzxaMKr8Uz8Pnr0fc9iU=',\n",
       "  'HTTPStatusCode': 200,\n",
       "  'HTTPHeaders': {'x-amz-id-2': 'J9xfDkBIGWXxlETdsum3+OCMft4gXcyP6rQwR/8zXVrS9LJptMLjHuuVzxaMKr8Uz8Pnr0fc9iU=',\n",
       "   'x-amz-request-id': 'JAA6XEK2JCCRWXR3',\n",
       "   'date': 'Sun, 12 Jun 2022 17:32:30 GMT',\n",
       "   'content-type': 'application/json',\n",
       "   'server': 'AmazonS3',\n",
       "   'content-length': '183'},\n",
       "  'RetryAttempts': 0},\n",
       " 'Policy': '{\"Version\":\"2012-10-17\",\"Statement\":[{\"Sid\":\"PublicRead\",\"Effect\":\"Allow\",\"Principal\":\"*\",\"Action\":[\"s3:GetObject\",\"s3:GetObjectVersion\"],\"Resource\":\"arn:aws:s3:::chachakibucket/*\"}]}'}"
      ]
     },
     "execution_count": 66,
     "metadata": {},
     "output_type": "execute_result"
    }
   ],
   "source": [
    "client.get_bucket_policy(Bucket='chachakibucket')\n"
   ]
  },
  {
   "cell_type": "markdown",
   "metadata": {},
   "source": [
    "## Host a static website in  s3"
   ]
  },
  {
   "cell_type": "code",
   "execution_count": 69,
   "metadata": {},
   "outputs": [],
   "source": [
    "conf = {\n",
    "    'ErrorDocument': {'Key':'error.html'},\n",
    "    'IndexDocument': {'Suffix':'welcome.html'}\n",
    "}"
   ]
  },
  {
   "cell_type": "code",
   "execution_count": 70,
   "metadata": {},
   "outputs": [
    {
     "data": {
      "text/plain": [
       "{'ResponseMetadata': {'RequestId': 'XJTEPWZP22DVHCKM',\n",
       "  'HostId': 'RcSX6ER/KF4ia1HVqtiw8rV+r151MLdmCjwowd6fpbh/GXv8/24jK68c+OKvaWG4wqsQmsbPU/E=',\n",
       "  'HTTPStatusCode': 200,\n",
       "  'HTTPHeaders': {'x-amz-id-2': 'RcSX6ER/KF4ia1HVqtiw8rV+r151MLdmCjwowd6fpbh/GXv8/24jK68c+OKvaWG4wqsQmsbPU/E=',\n",
       "   'x-amz-request-id': 'XJTEPWZP22DVHCKM',\n",
       "   'date': 'Sun, 12 Jun 2022 17:48:06 GMT',\n",
       "   'server': 'AmazonS3',\n",
       "   'content-length': '0'},\n",
       "  'RetryAttempts': 0}}"
      ]
     },
     "execution_count": 70,
     "metadata": {},
     "output_type": "execute_result"
    }
   ],
   "source": [
    "client.put_bucket_website(Bucket='chachakibucket',WebsiteConfiguration=conf)"
   ]
  },
  {
   "cell_type": "code",
   "execution_count": 71,
   "metadata": {},
   "outputs": [
    {
     "data": {
      "text/plain": [
       "{'ResponseMetadata': {'RequestId': 'HVXRV9GEF81NADX6',\n",
       "  'HostId': 'AvvS5hVkwbe/dxHHOgGTYVhCUeymJRi7rirHQoWltmCTM3iSpf+v1GfQDfUlilQpIftcA0hzLeM=',\n",
       "  'HTTPStatusCode': 200,\n",
       "  'HTTPHeaders': {'x-amz-id-2': 'AvvS5hVkwbe/dxHHOgGTYVhCUeymJRi7rirHQoWltmCTM3iSpf+v1GfQDfUlilQpIftcA0hzLeM=',\n",
       "   'x-amz-request-id': 'HVXRV9GEF81NADX6',\n",
       "   'date': 'Sun, 12 Jun 2022 17:49:41 GMT',\n",
       "   'content-type': 'application/xml',\n",
       "   'transfer-encoding': 'chunked',\n",
       "   'server': 'AmazonS3'},\n",
       "  'RetryAttempts': 0},\n",
       " 'IndexDocument': {'Suffix': 'welcome.html'},\n",
       " 'ErrorDocument': {'Key': 'error.html'}}"
      ]
     },
     "execution_count": 71,
     "metadata": {},
     "output_type": "execute_result"
    }
   ],
   "source": [
    "client.get_bucket_website(Bucket='chachakibucket')"
   ]
  },
  {
   "cell_type": "code",
   "execution_count": 74,
   "metadata": {},
   "outputs": [],
   "source": [
    "res = client.upload_file('welcome.html','chachakibucket','welcome.html',{'ACL':'public-read','ContentType':'text/html'})"
   ]
  },
  {
   "cell_type": "code",
   "execution_count": 75,
   "metadata": {},
   "outputs": [
    {
     "name": "stdout",
     "output_type": "stream",
     "text": [
      "None\n"
     ]
    }
   ],
   "source": [
    "print(res)"
   ]
  },
  {
   "cell_type": "code",
   "execution_count": null,
   "metadata": {},
   "outputs": [],
   "source": []
  }
 ],
 "metadata": {
  "kernelspec": {
   "display_name": "Python 3 (ipykernel)",
   "language": "python",
   "name": "python3"
  },
  "language_info": {
   "codemirror_mode": {
    "name": "ipython",
    "version": 3
   },
   "file_extension": ".py",
   "mimetype": "text/x-python",
   "name": "python",
   "nbconvert_exporter": "python",
   "pygments_lexer": "ipython3",
   "version": "3.9.13"
  },
  "vscode": {
   "interpreter": {
    "hash": "03be6093c030de0dbc6ff70bd88847669e17b3fc449280d7cbfcb74470ef9811"
   }
  }
 },
 "nbformat": 4,
 "nbformat_minor": 4
}
