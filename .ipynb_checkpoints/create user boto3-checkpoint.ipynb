{
 "cells": [
  {
   "cell_type": "code",
   "execution_count": 1,
   "id": "cec8f3fc",
   "metadata": {},
   "outputs": [],
   "source": [
    "import boto3\n",
    "from decouple import AutoConfig\n",
    "import hmac, hashlib, base64"
   ]
  },
  {
   "cell_type": "code",
   "execution_count": 2,
   "id": "78be6938",
   "metadata": {},
   "outputs": [],
   "source": [
    "config = AutoConfig(search_path='./')"
   ]
  },
  {
   "cell_type": "code",
   "execution_count": 4,
   "id": "8561e080",
   "metadata": {},
   "outputs": [
    {
     "data": {
      "text/plain": [
       "<botocore.client.CognitoIdentityProvider at 0x7f9c83be4880>"
      ]
     },
     "execution_count": 4,
     "metadata": {},
     "output_type": "execute_result"
    }
   ],
   "source": [
    "import boto3\n",
    "# aws_client = boto3.client('cognito-idp', \n",
    "#     region_name = CONFIG[\"cognito\"][\"region\"]\n",
    "# )\n",
    "client = boto3.client('cognito-idp',aws_access_key_id=config('aws_access_key_id',cast=str),aws_secret_access_key=config('aws_secret_access_key',cast=str))\n",
    "client"
   ]
  },
  {
   "cell_type": "markdown",
   "id": "c32a55b6",
   "metadata": {},
   "source": [
    "# Creating Hash Secret"
   ]
  },
  {
   "cell_type": "code",
   "execution_count": 8,
   "id": "47011f15",
   "metadata": {},
   "outputs": [
    {
     "data": {
      "text/plain": [
       "'HMWu0oJab9f6Z+BuqM0VmwI65UEXb/R5ReXnaLkvna0='"
      ]
     },
     "execution_count": 8,
     "metadata": {},
     "output_type": "execute_result"
    }
   ],
   "source": [
    "message = bytes('Yogi123'+'7p4v49s75p26gcbvin142oc3vg','utf-8')\n",
    "key = bytes('17jfoc45tn99at5julstih3151jn3e09buabu5sj74134sfol8g6','utf-8')\n",
    "secret_hash = base64.b64encode(hmac.new(key, message, digestmod=hashlib.sha256).digest()).decode()\n",
    "\n",
    "secret_hash"
   ]
  },
  {
   "cell_type": "markdown",
   "id": "946187ca",
   "metadata": {},
   "source": [
    "# Adding User to UserPool using Signup"
   ]
  },
  {
   "cell_type": "code",
   "execution_count": 11,
   "id": "4efe2a7e",
   "metadata": {},
   "outputs": [
    {
     "data": {
      "text/plain": [
       "{'UserConfirmed': False,\n",
       " 'CodeDeliveryDetails': {'Destination': 'y***@g***',\n",
       "  'DeliveryMedium': 'EMAIL',\n",
       "  'AttributeName': 'email'},\n",
       " 'UserSub': '54e27959-d0b8-42e7-b53f-7fb668a775e7',\n",
       " 'ResponseMetadata': {'RequestId': '0f46b23b-58ef-471d-ad34-bbbb987c0326',\n",
       "  'HTTPStatusCode': 200,\n",
       "  'HTTPHeaders': {'date': 'Wed, 22 Jun 2022 07:06:33 GMT',\n",
       "   'content-type': 'application/x-amz-json-1.1',\n",
       "   'content-length': '171',\n",
       "   'connection': 'keep-alive',\n",
       "   'x-amzn-requestid': '0f46b23b-58ef-471d-ad34-bbbb987c0326'},\n",
       "  'RetryAttempts': 0}}"
      ]
     },
     "execution_count": 11,
     "metadata": {},
     "output_type": "execute_result"
    }
   ],
   "source": [
    "response = client.sign_up(\n",
    "        ClientId='7p4v49s75p26gcbvin142oc3vg',\n",
    "    SecretHash=secret_hash,\n",
    "    Username='Yogi123',\n",
    "    Password='Test@123',\n",
    "    UserAttributes=[\n",
    "        {\n",
    "            'Name': \"email\",\n",
    "            'Value': 'y.yogi95@gmail.com'\n",
    "        },\n",
    "        {\n",
    "            'Name': \"custom:Role\",\n",
    "            'Value': 'owner'\n",
    "        }\n",
    "    ]\n",
    "#     ValidationData=[\n",
    "#         {\n",
    "#             'Name': 'Username',\n",
    "#             'Value': 'y.yogi95@gmail.com'\n",
    "#         },\n",
    "#     ]\n",
    "#     AnalyticsMetadata={\n",
    "#         'AnalyticsEndpointId': 'string'\n",
    "#     },\n",
    "#     UserContextData={\n",
    "#         'IpAddress': '112.196.86.34',\n",
    "#         'EncodedData': ''\n",
    "#     },\n",
    "#     ClientMetadata={\n",
    "#         'string': 'string'\n",
    "#     }\n",
    ")\n",
    "response"
   ]
  },
  {
   "cell_type": "code",
   "execution_count": null,
   "id": "28ff70c2",
   "metadata": {},
   "outputs": [],
   "source": []
  },
  {
   "cell_type": "markdown",
   "id": "e2d5f782",
   "metadata": {},
   "source": [
    "# Adding User to UserPool using Create User"
   ]
  },
  {
   "cell_type": "code",
   "execution_count": 40,
   "id": "384dc23e",
   "metadata": {},
   "outputs": [],
   "source": [
    "\n",
    "response = client.admin_create_user(\n",
    "    UserPoolId='us-east-1_v0NP09jyg',\n",
    "    Username='yyyyy',\n",
    "    UserAttributes=[\n",
    "        {\n",
    "            'Name': 'email',\n",
    "            'Value': 'y.yogi95@gmail.com'\n",
    "        },\n",
    "    ]\n",
    "#     ValidationData=[\n",
    "#         {\n",
    "#             'Name': 'Username',\n",
    "#             'Value': 'y.yogi95@gmail.com'\n",
    "#         },\n",
    "#     ],\n",
    "    \n",
    "    \n",
    "    \n",
    "#     ForceAliasCreation=True,\n",
    "#     MessageAction='SUPPRESS',\n",
    "#     DesiredDeliveryMediums=[\n",
    "#         'SMS'|'EMAIL',\n",
    "#     ]\n",
    ")"
   ]
  },
  {
   "cell_type": "code",
   "execution_count": 23,
   "id": "ee18e0c2",
   "metadata": {},
   "outputs": [
    {
     "name": "stdout",
     "output_type": "stream",
     "text": [
      "{'User': {'Username': 'tester', 'Attributes': [{'Name': 'sub', 'Value': 'e932dbc0-d05b-40dd-9a79-a9544a8c718b'}, {'Name': 'given_name', 'Value': 'San'}, {'Name': 'family_name', 'Value': 'Zhang'}, {'Name': 'email', 'Value': 'shuai.yuan+zs@frugalops.com'}], 'UserCreateDate': datetime.datetime(2022, 6, 20, 11, 51, 20, 554000, tzinfo=tzlocal()), 'UserLastModifiedDate': datetime.datetime(2022, 6, 20, 11, 51, 20, 554000, tzinfo=tzlocal()), 'Enabled': True, 'UserStatus': 'FORCE_CHANGE_PASSWORD'}, 'ResponseMetadata': {'RequestId': '6b91feec-e4ca-4886-8a15-c06ab15769ee', 'HTTPStatusCode': 200, 'HTTPHeaders': {'date': 'Mon, 20 Jun 2022 06:21:20 GMT', 'content-type': 'application/x-amz-json-1.1', 'content-length': '363', 'connection': 'keep-alive', 'x-amzn-requestid': '6b91feec-e4ca-4886-8a15-c06ab15769ee'}, 'RetryAttempts': 0}}\n"
     ]
    }
   ],
   "source": [
    "client_cognito = boto3.client('cognito-idp')\n",
    "\n",
    "response = client_cognito.admin_create_user(\n",
    "  UserPoolId='us-east-1_v0NP09jyg',\n",
    "  Username='tester123',\n",
    "  TemporaryPassword='Ascending123.',\n",
    "  UserAttributes=[\n",
    "   {\n",
    "    'Name': 'family_name',\n",
    "    'Value': 'Zhang'\n",
    "   },\n",
    "   {\n",
    "    'Name': 'given_name',\n",
    "    'Value': 'San'  \n",
    "   },\n",
    "   {\n",
    "    'Name': 'email',\n",
    "    'Value': 'shuai.yuan+zs@frugalops.com'\n",
    "   }\n",
    "  ])\n",
    "print(response)"
   ]
  },
  {
   "cell_type": "markdown",
   "id": "91f1d47d",
   "metadata": {},
   "source": [
    "# Login test "
   ]
  },
  {
   "cell_type": "code",
   "execution_count": 46,
   "id": "c654da9c",
   "metadata": {},
   "outputs": [
    {
     "data": {
      "text/plain": [
       "{'ChallengeParameters': {},\n",
       " 'AuthenticationResult': {'AccessToken': 'eyJraWQiOiIyU0F4bzVPTERXanpIa2xIN1dKeTRKbGFQUU92bzlQbnEzMHd5Qlh6eTFNPSIsImFsZyI6IlJTMjU2In0.eyJzdWIiOiI1MDhiMGE1ZS0yYTg0LTRmMDEtYmUzNi00NmE5MWM0NmZjZjkiLCJpc3MiOiJodHRwczpcL1wvY29nbml0by1pZHAudXMtZWFzdC0xLmFtYXpvbmF3cy5jb21cL3VzLWVhc3QtMV92ME5QMDlqeWciLCJjbGllbnRfaWQiOiI2MGpsMGxlYTBiNzFodmx2NnRhY2syZ3JjMSIsIm9yaWdpbl9qdGkiOiJlNDcwYTIzMy02ZjczLTQ3MjItYjY0Yy1kOTBmNGU3NDhlM2MiLCJldmVudF9pZCI6IjU5NzcyODUxLTIyYzUtNDExMy05YTQ2LTQ0YjcwYmU4MDdkYiIsInRva2VuX3VzZSI6ImFjY2VzcyIsInNjb3BlIjoiYXdzLmNvZ25pdG8uc2lnbmluLnVzZXIuYWRtaW4iLCJhdXRoX3RpbWUiOjE2NTU3MDgxMjksImV4cCI6MTY1NTcxMTcyOSwiaWF0IjoxNjU1NzA4MTI5LCJqdGkiOiJjOTBhOTIzOC04ZTBhLTRhMmQtOGQ3ZC1kMzkyOTM4ZGQ2ZmUiLCJ1c2VybmFtZSI6InlvZ2kxMjMifQ.UNBtzVXa1sP_1Y2pwyKc8T5Ey6x7xdGDYQF-i8hOx6tQwUPmJ8C0acKqJWvVfx8pPEonZN4oDnJ7bItlZkHZdL705dQs_960PaZo_Y_OExjPdqzIVGAKyAslA7FekkVp5JC8RoZlHRfA-0o1X7R19ETXlg4pemc_L6AX4dqtEGoyfBrjD46_tELw703Cf3LV6z1L-BaA0P4V-HkuVBfbFwMubLPQYUpannKekdcZ7NKVr2Y4a2S1e-mDJgiGRFNI791n-zlo5HFzwcKMSguWxauDvSRt3B9va-CLfLOigTdUYHoEECO73r6sLbGF9RZ4n3jpNBMRs6nTdAsB-cyM3w',\n",
       "  'ExpiresIn': 3600,\n",
       "  'TokenType': 'Bearer',\n",
       "  'RefreshToken': 'eyJjdHkiOiJKV1QiLCJlbmMiOiJBMjU2R0NNIiwiYWxnIjoiUlNBLU9BRVAifQ.AYIa_u_DWuQzxMHKL0kVrmRPynyaKXkjoWkKpbrVw1Ia2rMg5mzAXEszdEP6H3lQIAW2Q6Bv-7wHcnXrTwkPsOI9bUBNzbO_3er6fLW5hWuy9DEI8uKMI5tD-K9Mia_hPF1VWIEzJehdzrw6ZdypAwDe0lqiGJgGPdVlhV5H4ZuqDEiA4l1GpaqTUUth1fZm9jUIJJZk4IpML3fcBVtdI9Ko-pvsgcMVzQPWKDuSr8Shy9jeP_z5E5MiXrcPzXHNE070o3K-srxZGdXmg2p9Ty0fWoSj0zqSv_de4eeg6ldJxJ7ZM3-ZeDSE2QrYn1V7xn66tFRX99DQo3Jjc6Dl2g.4UIO56yVHlpFO5kh.q1W6SeSfZvNRSmTNMZlu_EcZW7FBwgHr46iwZI_L9s5sNmBvQv6jmBd8nKkdkUPGXIRymI9MHEk4gJH8Nz0ycSNBI0DK4YB8vzjk0pyxJ-b4ps-XPnfiJ-edIrDkfY6GZtdT-ZDBSRceqGHXfh1B5sCOk2p5YuGjCEmTEsj_jXmeITNOX8JNGfQSTq7ThUAiVYH_wJPsR5d4qzOwKWiM8b19bkg94KzkiGxwJCrb-FcoPszLmFABY1IN2yv8HtvR7B96UFQkY13RXEGjy-hSFxtLybPVeqcwyFNMTVLhpjlRVxdtN9Qxi36CX_qS_h40s9X1ebFU7i5gcBeU4jQGVU7vuA1Pb-s5qkbGEDIlV-d6gci3koY5hEh8KD-Pu6NyJdgBiGCutHL_v82KVjCAjR5YAq7ch1oe_6QIZC4fywVlmBvkQyKQxHSqeggWuZHUvSYvjDMbxiASkbGiqwmBlyMaB9s222TxxVcjh82x7Xmke1aXZpjBVqJyNQYCL4ka_IEz6ha-tr1-VicUcXAD2csShrZtABvu_ePRMg4Gq7m3xgLzj20B16Hb28Oil9Vke_BmbhZAqwimCKhws1uaYv9qu_vsBVvWQ2Rw7qLdwHM-eit7uNE4eHtfgpZaEpMwYUi-Nz6AE3wyVJAsXZbOhs0Horvh7MiMkyk81Ol4kjgN57YSE_YZWZpFDY_2hEOXEXqq4Zhpzqlv-ollpA9OdTqFuhHknNN3lbmoy9cVTOKR7wt7bIbf0v1a0Nb-aaB9spbeH8APZWHWr9eodggOpoXpWZ4jINKqZ7kDCtkavfTkSdognqJEmMZ3yiwMAezkM2kVME4z2jnMKdjihWsL2Q6mnTmFGWQhHUY5whMmgrKXEahavPHbPYaWWQgLOLvg0OXrIr1wus2MTJEHBjSqVC3GlZpqccUqX4x31mrGuNLzDD74pfD2K08hPTcE_AFU5tgjCItf276CG7Pi-dZxAey2kOoY9hAwaBd1N_ywDkE8JOVrEn5_pjVIIDfgAjlvSCirSd7i9CJlaeMx8KTUOljL-ZBZV85VWQfGsYkcz1i0_f56Ip32Fb8b0CiT1r7DD5V0HaY9T-wK2-3xjrA8vWKycMY4CCXkGDu5GCuQxadRMVSo_i_yfld_sMF3sX3W1vzVilPsBf6tJsuNMasDx_mbByuOCfUVkV5do6gRD46I-9PwjQaymLn18buxDTnv6AdNHUiLrGLvIrSbAgCSuTPreWlO5hoJRRHJl3rZwLa4uT4ooWnm0E90Q-XlUmmphcWvUnCF.aK4HGfMFGgMqNTiWgAmc0Q',\n",
       "  'IdToken': 'eyJraWQiOiJzYUtnc0VQMXFrTWFKSEFESWJ5TkhwRWNFQzl0VUlPSGx2RkVoY3lyREg4PSIsImFsZyI6IlJTMjU2In0.eyJzdWIiOiI1MDhiMGE1ZS0yYTg0LTRmMDEtYmUzNi00NmE5MWM0NmZjZjkiLCJlbWFpbF92ZXJpZmllZCI6dHJ1ZSwiaXNzIjoiaHR0cHM6XC9cL2NvZ25pdG8taWRwLnVzLWVhc3QtMS5hbWF6b25hd3MuY29tXC91cy1lYXN0LTFfdjBOUDA5anlnIiwiY29nbml0bzp1c2VybmFtZSI6InlvZ2kxMjMiLCJvcmlnaW5fanRpIjoiZTQ3MGEyMzMtNmY3My00NzIyLWI2NGMtZDkwZjRlNzQ4ZTNjIiwiYXVkIjoiNjBqbDBsZWEwYjcxaHZsdjZ0YWNrMmdyYzEiLCJldmVudF9pZCI6IjU5NzcyODUxLTIyYzUtNDExMy05YTQ2LTQ0YjcwYmU4MDdkYiIsInRva2VuX3VzZSI6ImlkIiwiYXV0aF90aW1lIjoxNjU1NzA4MTI5LCJleHAiOjE2NTU3MTE3MjksImlhdCI6MTY1NTcwODEyOSwianRpIjoiZTZlNDIxZWItOTYwNC00OTEyLTgzZWEtMzJkMTNlZjI3YTY5IiwiZW1haWwiOiJ5LnlvZ2k5NUBnbWFpbC5jb20ifQ.ydDjQ32g-vOW9kyUmtoG5G3ug1l46K2GsXvqW70yfd95XP8hMDCvZJ-O43Bv60vUsuTNVVir5jVCSCPGXRuvl0lSrah4Dp5ZP2T1-ZMwpbpeHUX8QYzASz29jgaZkuHlDOeIb6TXBxV7xS1STOSvZHj46-8tAPW3T6KMbGRBJPJK94O9r64l1VXW4yQKYS2I7RfiJJiyBkDPXihy1n91Crl8ehIf1xcbJVfXH-plX2XCwnBjro4Up7mkGxuYYxpIxIQLKXzFSDy5yAWIrESEsbkiZBcCyxiKEhCNeUTQHS3zGqMQtZVZ3_NjNNvm0hly8jsO2B2llS0NRsbA-OTYPw'},\n",
       " 'ResponseMetadata': {'RequestId': '59772851-22c5-4113-9a46-44b70be807db',\n",
       "  'HTTPStatusCode': 200,\n",
       "  'HTTPHeaders': {'date': 'Mon, 20 Jun 2022 06:55:29 GMT',\n",
       "   'content-type': 'application/x-amz-json-1.1',\n",
       "   'content-length': '3949',\n",
       "   'connection': 'keep-alive',\n",
       "   'x-amzn-requestid': '59772851-22c5-4113-9a46-44b70be807db'},\n",
       "  'RetryAttempts': 0}}"
      ]
     },
     "execution_count": 46,
     "metadata": {},
     "output_type": "execute_result"
    }
   ],
   "source": [
    "response = client.admin_initiate_auth(\n",
    "    UserPoolId='us-east-1_v0NP09jyg',\n",
    "    ClientId='60jl0lea0b71hvlv6tack2grc1',\n",
    "    AuthFlow='ADMIN_NO_SRP_AUTH',\n",
    "    AuthParameters={\n",
    "                    \"USERNAME\": 'Yogi123',\n",
    "                    \"PASSWORD\": 'Test@123',\n",
    "                    \"SECRET_HASH\": secret_hash\n",
    "#     ClientMetadata={\n",
    "#         'string': 'string'\n",
    "#     },\n",
    "#     AnalyticsMetadata={\n",
    "#         'AnalyticsEndpointId': 'string'\n",
    "#     },\n",
    "#     ContextData={\n",
    "#         'IpAddress': 'string',\n",
    "#         'ServerName': 'string',\n",
    "#         'ServerPath': 'string',\n",
    "#         'HttpHeaders': [\n",
    "#             {\n",
    "#                 'headerName': 'string',\n",
    "#                 'headerValue': 'string'\n",
    "#             },\n",
    "#         ],\n",
    "#         'EncodedData': 'string'\n",
    "    }\n",
    ")\n",
    "response"
   ]
  },
  {
   "cell_type": "code",
   "execution_count": 16,
   "id": "79915bee",
   "metadata": {},
   "outputs": [],
   "source": [
    "message = bytes('Yogi'+'7p4v49s75p26gcbvin142oc3vg','utf-8')\n",
    "key = bytes('17jfoc45tn99at5julstih3151jn3e09buabu5sj74134sfol8g6','utf-8')\n",
    "secret_hash = base64.b64encode(hmac.new(key, message, digestmod=hashlib.sha256).digest()).decode()\n",
    "\n",
    "\n",
    "response = client.sign_up(\n",
    "    ClientId='7p4v49s75p26gcbvin142oc3vg',\n",
    "    SecretHash=secret_hash,\n",
    "    Username='Yogi',\n",
    "    Password='Test@123',\n",
    "    UserAttributes=[\n",
    "        {\n",
    "            'Name':'email',\n",
    "            'Value':'y.yogi95@gmail.com'\n",
    "            \n",
    "        },\n",
    "        {\n",
    "            'Name':'custom:role',\n",
    "            'Value':'owner'\n",
    "        }\n",
    "        \n",
    "    ]\n",
    ")"
   ]
  },
  {
   "cell_type": "code",
   "execution_count": 17,
   "id": "d0c212a1",
   "metadata": {},
   "outputs": [
    {
     "data": {
      "text/plain": [
       "{'UserConfirmed': True,\n",
       " 'UserSub': '0021b9ce-0429-4ff3-8bbb-4c1ba6fbf8bd',\n",
       " 'ResponseMetadata': {'RequestId': 'e534ec75-50f9-48dd-8762-a2ff55cccabf',\n",
       "  'HTTPStatusCode': 200,\n",
       "  'HTTPHeaders': {'date': 'Wed, 22 Jun 2022 10:53:42 GMT',\n",
       "   'content-type': 'application/x-amz-json-1.1',\n",
       "   'content-length': '71',\n",
       "   'connection': 'keep-alive',\n",
       "   'x-amzn-requestid': 'e534ec75-50f9-48dd-8762-a2ff55cccabf'},\n",
       "  'RetryAttempts': 0}}"
      ]
     },
     "execution_count": 17,
     "metadata": {},
     "output_type": "execute_result"
    }
   ],
   "source": [
    "response"
   ]
  },
  {
   "cell_type": "code",
   "execution_count": null,
   "id": "da4451fa",
   "metadata": {},
   "outputs": [],
   "source": []
  }
 ],
 "metadata": {
  "kernelspec": {
   "display_name": "Python 3 (ipykernel)",
   "language": "python",
   "name": "python3"
  },
  "language_info": {
   "codemirror_mode": {
    "name": "ipython",
    "version": 3
   },
   "file_extension": ".py",
   "mimetype": "text/x-python",
   "name": "python",
   "nbconvert_exporter": "python",
   "pygments_lexer": "ipython3",
   "version": "3.8.10"
  }
 },
 "nbformat": 4,
 "nbformat_minor": 5
}
