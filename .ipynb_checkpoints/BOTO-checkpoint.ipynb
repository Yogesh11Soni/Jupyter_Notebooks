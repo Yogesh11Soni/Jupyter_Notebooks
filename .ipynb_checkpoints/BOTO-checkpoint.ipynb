{
 "cells": [
  {
   "cell_type": "code",
   "execution_count": 2,
   "id": "7b4246e6",
   "metadata": {},
   "outputs": [
    {
     "name": "stdout",
     "output_type": "stream",
     "text": [
      "Defaulting to user installation because normal site-packages is not writeable\n",
      "Requirement already satisfied: boto3[crt] in ./.local/lib/python3.8/site-packages (1.24.4)\n",
      "Requirement already satisfied: jmespath<2.0.0,>=0.7.1 in ./.local/lib/python3.8/site-packages (from boto3[crt]) (1.0.0)\n",
      "Requirement already satisfied: botocore<1.28.0,>=1.27.4 in ./.local/lib/python3.8/site-packages (from boto3[crt]) (1.27.4)\n",
      "Requirement already satisfied: s3transfer<0.7.0,>=0.6.0 in ./.local/lib/python3.8/site-packages (from boto3[crt]) (0.6.0)\n",
      "Requirement already satisfied: urllib3<1.27,>=1.25.4 in ./.local/lib/python3.8/site-packages (from botocore<1.28.0,>=1.27.4->boto3[crt]) (1.26.9)\n",
      "Requirement already satisfied: python-dateutil<3.0.0,>=2.1 in ./.local/lib/python3.8/site-packages (from botocore<1.28.0,>=1.27.4->boto3[crt]) (2.8.2)\n",
      "Requirement already satisfied: awscrt==0.13.8 in ./.local/lib/python3.8/site-packages (from botocore<1.28.0,>=1.27.4->boto3[crt]) (0.13.8)\n",
      "Requirement already satisfied: six>=1.5 in /usr/lib/python3/dist-packages (from python-dateutil<3.0.0,>=2.1->botocore<1.28.0,>=1.27.4->boto3[crt]) (1.14.0)\n",
      "\u001b[33mWARNING: There was an error checking the latest version of pip.\u001b[0m\u001b[33m\n",
      "\u001b[0mNote: you may need to restart the kernel to use updated packages.\n"
     ]
    }
   ],
   "source": [
    "pip install boto3[crt]"
   ]
  },
  {
   "cell_type": "code",
   "execution_count": 11,
   "id": "7ad9e96a",
   "metadata": {},
   "outputs": [
    {
     "ename": "SyntaxError",
     "evalue": "invalid syntax (3821592265.py, line 1)",
     "output_type": "error",
     "traceback": [
      "\u001b[0;36m  Input \u001b[0;32mIn [11]\u001b[0;36m\u001b[0m\n\u001b[0;31m    aws configure\u001b[0m\n\u001b[0m        ^\u001b[0m\n\u001b[0;31mSyntaxError\u001b[0m\u001b[0;31m:\u001b[0m invalid syntax\n"
     ]
    }
   ],
   "source": [
    "aws configure"
   ]
  },
  {
   "cell_type": "code",
   "execution_count": 10,
   "id": "0e927c79",
   "metadata": {},
   "outputs": [],
   "source": [
    "import boto3"
   ]
  },
  {
   "cell_type": "code",
   "execution_count": 4,
   "id": "3c423a64",
   "metadata": {},
   "outputs": [],
   "source": [
    "#Lets use Amazon S3\n",
    "#default \n",
    "s3 = boto3.resource('s3')"
   ]
  },
  {
   "cell_type": "code",
   "execution_count": 7,
   "id": "7d95eb94",
   "metadata": {},
   "outputs": [
    {
     "name": "stdout",
     "output_type": "stream",
     "text": [
      "chachakibucket\n"
     ]
    }
   ],
   "source": [
    "# Print out bucket Names\n",
    "\n",
    "for bucket in s3.buckets.all():\n",
    "    print(bucket.name)"
   ]
  },
  {
   "cell_type": "code",
   "execution_count": 10,
   "id": "1a3a32eb",
   "metadata": {},
   "outputs": [
    {
     "data": {
      "text/plain": [
       "s3.Object(bucket_name='chachakibucket', key='return.jpg')"
      ]
     },
     "execution_count": 10,
     "metadata": {},
     "output_type": "execute_result"
    }
   ],
   "source": [
    "#upload a new file\n",
    "\n",
    "data = open('return.jpg', 'rb')\n",
    "\n",
    "s3.Bucket('chachakibucket').put_object(Key='return.jpg', Body=data)"
   ]
  },
  {
   "cell_type": "markdown",
   "id": "55d65335",
   "metadata": {},
   "source": [
    "## Creating a Queue"
   ]
  },
  {
   "cell_type": "code",
   "execution_count": 11,
   "id": "3cd47994",
   "metadata": {},
   "outputs": [
    {
     "name": "stdout",
     "output_type": "stream",
     "text": [
      "https://queue.amazonaws.com/009342089616/test\n",
      "5\n"
     ]
    }
   ],
   "source": [
    "# Get the boto service resource\n",
    "sqs = boto3.resource('sqs')\n",
    "\n",
    "#create the queue. This returns an SQS.Queue instance\n",
    "queue = sqs.create_queue(QueueName='test', Attributes={'DelaySeconds':'5'})\n",
    "\n",
    "#You can now access identifiers and attributes\n",
    "print(queue.url)\n",
    "print(queue.attributes.get('DelaySeconds'))"
   ]
  },
  {
   "cell_type": "markdown",
   "id": "9067150c",
   "metadata": {},
   "source": [
    "## Using Existing queue"
   ]
  },
  {
   "cell_type": "code",
   "execution_count": 13,
   "id": "a4fa4087",
   "metadata": {},
   "outputs": [
    {
     "name": "stdout",
     "output_type": "stream",
     "text": [
      "https://queue.amazonaws.com/009342089616/test\n",
      "5\n"
     ]
    }
   ],
   "source": [
    "#get the service resource\n",
    "sqs = boto3.resource('sqs')\n",
    "\n",
    "#get the queue. this returns an SQS.Queue instance \n",
    "queue = sqs.get_queue_by_name(QueueName='test')\n",
    "\n",
    "#you can now access identifiers and attributes\n",
    "print(queue.url)\n",
    "print(queue.attributes.get('DelaySeconds'))"
   ]
  },
  {
   "cell_type": "markdown",
   "id": "b7041bf7",
   "metadata": {},
   "source": [
    "It is also possible to list all of your existing queues:"
   ]
  },
  {
   "cell_type": "code",
   "execution_count": 14,
   "id": "b4329685",
   "metadata": {},
   "outputs": [
    {
     "name": "stdout",
     "output_type": "stream",
     "text": [
      "https://queue.amazonaws.com/009342089616/test\n"
     ]
    }
   ],
   "source": [
    "#print out each queue name, which is part of its ARN\n",
    "for queue in sqs.queues.all():\n",
    "    print(queue.url)"
   ]
  },
  {
   "cell_type": "markdown",
   "id": "d7409407",
   "metadata": {},
   "source": [
    "## Sending Messages"
   ]
  },
  {
   "cell_type": "markdown",
   "id": "480a8b8d",
   "metadata": {},
   "source": [
    "Sending message adds it to the end of the queue."
   ]
  },
  {
   "cell_type": "code",
   "execution_count": 15,
   "id": "a84110a5",
   "metadata": {},
   "outputs": [
    {
     "name": "stdout",
     "output_type": "stream",
     "text": [
      "1fa4671b-480f-487b-bf84-ecbb435daf4c\n",
      "None\n"
     ]
    }
   ],
   "source": [
    "#Get the service resource\n",
    "\n",
    "#get the queue\n",
    "\n",
    "#create a new message \n",
    "response = queue.send_message(MessageBody='Chandu')\n",
    "\n",
    "#The response is NOT a resource, but gives you a message ID and MD\n",
    "print(response.get('MessageId'))\n",
    "print(response.get('MD50fMessageBody'))"
   ]
  },
  {
   "cell_type": "markdown",
   "id": "59181f33",
   "metadata": {},
   "source": [
    "You can also create message with custom attributres:"
   ]
  },
  {
   "cell_type": "code",
   "execution_count": 16,
   "id": "6c08ee35",
   "metadata": {},
   "outputs": [
    {
     "data": {
      "text/plain": [
       "{'MD5OfMessageBody': 'd8353102f8f7a19318b221fedd70cf63',\n",
       " 'MD5OfMessageAttributes': 'd57be2825f78cdc7112c0f9dc4b21231',\n",
       " 'MessageId': '30553e29-da0a-47d9-b74c-694360b25d9a',\n",
       " 'ResponseMetadata': {'RequestId': 'e7896a4e-53bf-5992-a065-3152b5c4118e',\n",
       "  'HTTPStatusCode': 200,\n",
       "  'HTTPHeaders': {'x-amzn-requestid': 'e7896a4e-53bf-5992-a065-3152b5c4118e',\n",
       "   'date': 'Fri, 10 Jun 2022 06:27:07 GMT',\n",
       "   'content-type': 'text/xml',\n",
       "   'content-length': '459'},\n",
       "  'RetryAttempts': 0}}"
      ]
     },
     "execution_count": 16,
     "metadata": {},
     "output_type": "execute_result"
    }
   ],
   "source": [
    "queue.send_message(MessageBody='Yogesh Soni', MessageAttributes={\n",
    "    'Author':{\n",
    "        'StringValue': 'Daniel',\n",
    "        'DataType':'String'\n",
    "    }\n",
    "})"
   ]
  },
  {
   "cell_type": "code",
   "execution_count": null,
   "id": "bfa92e12",
   "metadata": {},
   "outputs": [],
   "source": []
  }
 ],
 "metadata": {
  "kernelspec": {
   "display_name": "Python 3 (ipykernel)",
   "language": "python",
   "name": "python3"
  },
  "language_info": {
   "codemirror_mode": {
    "name": "ipython",
    "version": 3
   },
   "file_extension": ".py",
   "mimetype": "text/x-python",
   "name": "python",
   "nbconvert_exporter": "python",
   "pygments_lexer": "ipython3",
   "version": "3.9.13"
  }
 },
 "nbformat": 4,
 "nbformat_minor": 5
}
