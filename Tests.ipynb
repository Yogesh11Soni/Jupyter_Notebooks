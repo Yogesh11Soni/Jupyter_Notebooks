{
 "cells": [
  {
   "cell_type": "code",
   "execution_count": 2,
   "id": "b87eb2c2",
   "metadata": {},
   "outputs": [
    {
     "name": "stdout",
     "output_type": "stream",
     "text": [
      "{\"name\": \"Yogesh Soni\", \"ecode\": \"E02199\"}\n"
     ]
    }
   ],
   "source": [
    "import json\n",
    "\n",
    "python_data = {'name':'Yogesh Soni', 'ecode':'E02199'}\n",
    "\n",
    "json_data = json.dumps(python_data)\n",
    "\n",
    "print(json_data)"
   ]
  },
  {
   "cell_type": "code",
   "execution_count": 3,
   "id": "9d9371bb",
   "metadata": {},
   "outputs": [
    {
     "data": {
      "text/plain": [
       "{'name': 'Yogesh Soni', 'ecode': 'E02199'}"
      ]
     },
     "execution_count": 3,
     "metadata": {},
     "output_type": "execute_result"
    }
   ],
   "source": [
    "parsed_data = json.loads(json_data)   #python data\n",
    "parsed_data"
   ]
  },
  {
   "cell_type": "code",
   "execution_count": 1,
   "id": "2d3b4265",
   "metadata": {},
   "outputs": [
    {
     "name": "stderr",
     "output_type": "stream",
     "text": [
      "/usr/lib/python3/dist-packages/requests/__init__.py:89: RequestsDependencyWarning: urllib3 (1.26.9) or chardet (3.0.4) doesn't match a supported version!\n",
      "  warnings.warn(\"urllib3 ({}) or chardet ({}) doesn't match a supported \"\n"
     ]
    },
    {
     "data": {
      "text/plain": [
       "[{'id': 1, 'name': 'Item 1', 'created': '2022-05-13T05:38:12.932932Z'},\n",
       " {'id': 2, 'name': 'Item 2', 'created': '2022-05-13T05:38:18.601469Z'},\n",
       " {'id': 3, 'name': 'Item 3', 'created': '2022-05-13T05:38:22.041138Z'},\n",
       " {'id': 4,\n",
       "  'name': 'item created from post request',\n",
       "  'created': '2022-05-13T06:03:45.128086Z'},\n",
       " {'id': 5, 'name': 'Item 5 added', 'created': '2022-05-13T06:17:23.579089Z'},\n",
       " {'id': 6, 'name': 'item6', 'created': '2022-05-13T06:24:50.640830Z'},\n",
       " {'id': 7, 'name': 'item7', 'created': '2022-05-13T06:29:37.143110Z'},\n",
       " {'id': 8, 'name': 'Yogesh Soni', 'created': '2022-05-17T05:29:40.872879Z'}]"
      ]
     },
     "execution_count": 1,
     "metadata": {},
     "output_type": "execute_result"
    }
   ],
   "source": [
    "import requests\n",
    "data = requests.get(url='http://127.0.0.1:8000/').json()\n",
    "data"
   ]
  },
  {
   "cell_type": "code",
   "execution_count": 4,
   "id": "9156adca",
   "metadata": {},
   "outputs": [
    {
     "data": {
      "text/html": [
       "<div>\n",
       "<style scoped>\n",
       "    .dataframe tbody tr th:only-of-type {\n",
       "        vertical-align: middle;\n",
       "    }\n",
       "\n",
       "    .dataframe tbody tr th {\n",
       "        vertical-align: top;\n",
       "    }\n",
       "\n",
       "    .dataframe thead th {\n",
       "        text-align: right;\n",
       "    }\n",
       "</style>\n",
       "<table border=\"1\" class=\"dataframe\">\n",
       "  <thead>\n",
       "    <tr style=\"text-align: right;\">\n",
       "      <th></th>\n",
       "      <th>Unnamed: 0</th>\n",
       "      <th>Product</th>\n",
       "      <th>Ebay_Price</th>\n",
       "      <th>Amazon_Price</th>\n",
       "    </tr>\n",
       "  </thead>\n",
       "  <tbody>\n",
       "    <tr>\n",
       "      <th>0</th>\n",
       "      <td>0</td>\n",
       "      <td>Amazon Basics Matte Black Wired Keyboard - US ...</td>\n",
       "      <td>209.0</td>\n",
       "      <td>11.0</td>\n",
       "    </tr>\n",
       "    <tr>\n",
       "      <th>1</th>\n",
       "      <td>1</td>\n",
       "      <td>Manhattan Wired Computer Keyboard, Black – Bas...</td>\n",
       "      <td>14.9</td>\n",
       "      <td>194.0</td>\n",
       "    </tr>\n",
       "    <tr>\n",
       "      <th>2</th>\n",
       "      <td>2</td>\n",
       "      <td>Logitech G915 TKL Tenkeyless Lightspeed Wirele...</td>\n",
       "      <td>7.8</td>\n",
       "      <td>35.0</td>\n",
       "    </tr>\n",
       "    <tr>\n",
       "      <th>3</th>\n",
       "      <td>3</td>\n",
       "      <td>Logitech Wireless Combo MK270</td>\n",
       "      <td>31.0</td>\n",
       "      <td>19.0</td>\n",
       "    </tr>\n",
       "    <tr>\n",
       "      <th>4</th>\n",
       "      <td>4</td>\n",
       "      <td>Redragon S101 Wired Gaming Keyboard and Mouse ...</td>\n",
       "      <td>7.8</td>\n",
       "      <td>86.0</td>\n",
       "    </tr>\n",
       "    <tr>\n",
       "      <th>5</th>\n",
       "      <td>5</td>\n",
       "      <td>havit Wired Gaming Keyboard Mouse Combo LED Ra...</td>\n",
       "      <td>17.9</td>\n",
       "      <td>42.0</td>\n",
       "    </tr>\n",
       "    <tr>\n",
       "      <th>6</th>\n",
       "      <td>6</td>\n",
       "      <td>Verbatim Slimline Full Size Wired Keyboard USB...</td>\n",
       "      <td>222.5</td>\n",
       "      <td>NaN</td>\n",
       "    </tr>\n",
       "    <tr>\n",
       "      <th>7</th>\n",
       "      <td>7</td>\n",
       "      <td>LeadsaiL Wireless Keyboard and Mouse, Wireless...</td>\n",
       "      <td>175.0</td>\n",
       "      <td>NaN</td>\n",
       "    </tr>\n",
       "    <tr>\n",
       "      <th>8</th>\n",
       "      <td>8</td>\n",
       "      <td>Amazon Basics Matte Black Wired Keyboard - US ...</td>\n",
       "      <td>20.7</td>\n",
       "      <td>29.0</td>\n",
       "    </tr>\n",
       "    <tr>\n",
       "      <th>9</th>\n",
       "      <td>9</td>\n",
       "      <td>Razer Cynosa Chroma Gaming Keyboard: Individua...</td>\n",
       "      <td>2.2</td>\n",
       "      <td>10.0</td>\n",
       "    </tr>\n",
       "  </tbody>\n",
       "</table>\n",
       "</div>"
      ],
      "text/plain": [
       "   Unnamed: 0                                            Product  Ebay_Price  \\\n",
       "0           0  Amazon Basics Matte Black Wired Keyboard - US ...       209.0   \n",
       "1           1  Manhattan Wired Computer Keyboard, Black – Bas...        14.9   \n",
       "2           2  Logitech G915 TKL Tenkeyless Lightspeed Wirele...         7.8   \n",
       "3           3                      Logitech Wireless Combo MK270        31.0   \n",
       "4           4  Redragon S101 Wired Gaming Keyboard and Mouse ...         7.8   \n",
       "5           5  havit Wired Gaming Keyboard Mouse Combo LED Ra...        17.9   \n",
       "6           6  Verbatim Slimline Full Size Wired Keyboard USB...       222.5   \n",
       "7           7  LeadsaiL Wireless Keyboard and Mouse, Wireless...       175.0   \n",
       "8           8  Amazon Basics Matte Black Wired Keyboard - US ...        20.7   \n",
       "9           9  Razer Cynosa Chroma Gaming Keyboard: Individua...         2.2   \n",
       "\n",
       "   Amazon_Price  \n",
       "0          11.0  \n",
       "1         194.0  \n",
       "2          35.0  \n",
       "3          19.0  \n",
       "4          86.0  \n",
       "5          42.0  \n",
       "6           NaN  \n",
       "7           NaN  \n",
       "8          29.0  \n",
       "9          10.0  "
      ]
     },
     "execution_count": 4,
     "metadata": {},
     "output_type": "execute_result"
    }
   ],
   "source": [
    "import pandas as pd\n",
    "\n",
    "df = pd.read_csv('scraping\\scraped.csv')\n",
    "\n",
    "df"
   ]
  },
  {
   "cell_type": "code",
   "execution_count": 6,
   "id": "eef1ce00",
   "metadata": {},
   "outputs": [
    {
     "data": {
      "text/plain": [
       "'{\"Unnamed: 0\":{\"0\":0,\"1\":1,\"2\":2,\"3\":3,\"4\":4,\"5\":5,\"6\":6,\"7\":7,\"8\":8,\"9\":9},\"Product\":{\"0\":\"Amazon Basics Matte Black Wired Keyboard - US Layout (QWERTY)\",\"1\":\"Manhattan Wired Computer Keyboard, Black \\\\u2013 Basic Keyboard - with 5ft USB-A Cable, 104-keys, Foldable Stands - Compatible for Windows, PC, Laptop - 3 Year Warranty - 179324\",\"2\":\"Logitech G915 TKL Tenkeyless Lightspeed Wireless RGB Mechanical Gaming Keyboard, Low Profile Switch Options, Lightsync RGB, Advanced Wireless and Bluetooth Support - Tactile\",\"3\":\"Logitech Wireless Combo MK270\",\"4\":\"Redragon S101 Wired Gaming Keyboard and Mouse Combo RGB Backlit Gaming Keyboard with Multimedia Keys Wrist Rest and Red Backlit Gaming Mouse 3200 DPI for Windows PC Gamers (Black)\",\"5\":\"havit Wired Gaming Keyboard Mouse Combo LED Rainbow Backlit Gaming Keyboard RGB Gaming Mouse Ergonomic Wrist Rest 104 Keys Keyboard Mouse 4800 DPI for Windows PC Gamers (Black)\",\"6\":\"Verbatim Slimline Full Size Wired Keyboard USB Plug-and-Play - Compatible with PC, Laptop - Black\",\"7\":\"LeadsaiL Wireless Keyboard and Mouse, Wireless Mouse and Keyboard Combo, Cordless USB Computer Keyboard and Mouse Set, Ergonomic, Silent, Compact Slim for Windows Laptop, Apple, iMac, Desktop, PC\",\"8\":\"Amazon Basics Matte Black Wired Keyboard - US Layout (QWERTY)\",\"9\":\"Razer Cynosa Chroma Gaming Keyboard: Individually Backlit RGB Keys - Spill-Resistant Design - Programmable Macro Functionality - Quiet & Cushioned\"},\"Ebay_Price\":{\"0\":209.0,\"1\":14.9,\"2\":7.8,\"3\":31.0,\"4\":7.8,\"5\":17.9,\"6\":222.5,\"7\":175.0,\"8\":20.7,\"9\":2.2},\"Amazon_Price\":{\"0\":11.0,\"1\":194.0,\"2\":35.0,\"3\":19.0,\"4\":86.0,\"5\":42.0,\"6\":null,\"7\":null,\"8\":29.0,\"9\":10.0}}'"
      ]
     },
     "execution_count": 6,
     "metadata": {},
     "output_type": "execute_result"
    }
   ],
   "source": [
    "json_data=df.to_json()\n",
    "json_data"
   ]
  },
  {
   "cell_type": "code",
   "execution_count": 3,
   "id": "6cbe0718",
   "metadata": {},
   "outputs": [
    {
     "ename": "FileNotFoundError",
     "evalue": "[Errno 2] No such file or directory: 'https://backend-neutron-bucket.s3.us-west-1.amazonaws.com/1%3A20_PSA.pdf'",
     "output_type": "error",
     "traceback": [
      "\u001b[0;31m---------------------------------------------------------------------------\u001b[0m",
      "\u001b[0;31mFileNotFoundError\u001b[0m                         Traceback (most recent call last)",
      "\u001b[0;32m/tmp/ipykernel_18069/3469244294.py\u001b[0m in \u001b[0;36m<module>\u001b[0;34m\u001b[0m\n\u001b[1;32m      1\u001b[0m \u001b[0;32mimport\u001b[0m \u001b[0mbase64\u001b[0m\u001b[0;34m\u001b[0m\u001b[0;34m\u001b[0m\u001b[0m\n\u001b[1;32m      2\u001b[0m \u001b[0;34m\u001b[0m\u001b[0m\n\u001b[0;32m----> 3\u001b[0;31m \u001b[0;32mwith\u001b[0m \u001b[0mopen\u001b[0m\u001b[0;34m(\u001b[0m\u001b[0;34m\"https://backend-neutron-bucket.s3.us-west-1.amazonaws.com/1%3A20_PSA.pdf\"\u001b[0m\u001b[0;34m,\u001b[0m \u001b[0;34m\"rb\"\u001b[0m\u001b[0;34m)\u001b[0m \u001b[0;32mas\u001b[0m \u001b[0mpdf_file\u001b[0m\u001b[0;34m:\u001b[0m\u001b[0;34m\u001b[0m\u001b[0;34m\u001b[0m\u001b[0m\n\u001b[0m\u001b[1;32m      4\u001b[0m     \u001b[0mencoded_string\u001b[0m \u001b[0;34m=\u001b[0m \u001b[0mbase64\u001b[0m\u001b[0;34m.\u001b[0m\u001b[0mb64encode\u001b[0m\u001b[0;34m(\u001b[0m\u001b[0mpdf_file\u001b[0m\u001b[0;34m.\u001b[0m\u001b[0mread\u001b[0m\u001b[0;34m(\u001b[0m\u001b[0;34m)\u001b[0m\u001b[0;34m)\u001b[0m\u001b[0;34m\u001b[0m\u001b[0;34m\u001b[0m\u001b[0m\n",
      "\u001b[0;31mFileNotFoundError\u001b[0m: [Errno 2] No such file or directory: 'https://backend-neutron-bucket.s3.us-west-1.amazonaws.com/1%3A20_PSA.pdf'"
     ]
    }
   ],
   "source": [
    "import base64\n",
    "\n",
    "with open(\"https://backend-neutron-bucket.s3.us-west-1.amazonaws.com/1%3A20_PSA.pdf\", \"rb\") as pdf_file:\n",
    "    encoded_string = base64.b64encode(pdf_file.read())"
   ]
  },
  {
   "cell_type": "code",
   "execution_count": null,
   "id": "641651cf",
   "metadata": {},
   "outputs": [],
   "source": []
  }
 ],
 "metadata": {
  "kernelspec": {
   "display_name": "Python 3 (ipykernel)",
   "language": "python",
   "name": "python3"
  },
  "language_info": {
   "codemirror_mode": {
    "name": "ipython",
    "version": 3
   },
   "file_extension": ".py",
   "mimetype": "text/x-python",
   "name": "python",
   "nbconvert_exporter": "python",
   "pygments_lexer": "ipython3",
   "version": "3.9.13"
  }
 },
 "nbformat": 4,
 "nbformat_minor": 5
}
