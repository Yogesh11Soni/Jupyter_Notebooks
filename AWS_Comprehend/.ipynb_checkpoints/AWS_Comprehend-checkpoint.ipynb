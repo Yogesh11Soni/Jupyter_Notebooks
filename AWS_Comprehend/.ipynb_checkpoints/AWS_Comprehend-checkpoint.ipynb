{
 "cells": [
  {
   "cell_type": "code",
   "execution_count": 1,
   "id": "8aa11c33-d58e-4b2c-a5a4-f7950481a6f6",
   "metadata": {},
   "outputs": [],
   "source": [
    "import boto3\n",
    "import json\n",
    "\n",
    "comprehend = boto3.client('comprehend')\n"
   ]
  },
  {
   "cell_type": "code",
   "execution_count": 2,
   "id": "8f58d6df-b8d0-4000-9fcb-b7ca2e063b84",
   "metadata": {
    "scrolled": true,
    "tags": []
   },
   "outputs": [
    {
     "name": "stdout",
     "output_type": "stream",
     "text": [
      "Calling DetectSentiment\n",
      "{\n",
      "    \"ResponseMetadata\": {\n",
      "        \"HTTPHeaders\": {\n",
      "            \"content-length\": \"162\",\n",
      "            \"content-type\": \"application/x-amz-json-1.1\",\n",
      "            \"date\": \"Mon, 07 Nov 2022 11:04:24 GMT\",\n",
      "            \"x-amzn-requestid\": \"e27a3f0c-7f99-426b-b041-687d7b84e9f2\"\n",
      "        },\n",
      "        \"HTTPStatusCode\": 200,\n",
      "        \"RequestId\": \"e27a3f0c-7f99-426b-b041-687d7b84e9f2\",\n",
      "        \"RetryAttempts\": 0\n",
      "    },\n",
      "    \"Sentiment\": \"NEUTRAL\",\n",
      "    \"SentimentScore\": {\n",
      "        \"Mixed\": 0.0008868251461535692,\n",
      "        \"Negative\": 0.002081470098346472,\n",
      "        \"Neutral\": 0.5367995500564575,\n",
      "        \"Positive\": 0.4602322578430176\n",
      "    }\n",
      "}\n"
     ]
    }
   ],
   "source": [
    "DetectSentimenttext = \"UK won the match yesterday.. hehe\"\n",
    "print('Calling DetectSentiment')\n",
    "sentiment = json.dumps(comprehend.detect_sentiment(Text=DetectSentimenttext, LanguageCode='en'), sort_keys=True, indent=4)\n",
    "print(sentiment)\n"
   ]
  },
  {
   "cell_type": "code",
   "execution_count": 3,
   "id": "dbcc27f7-30f9-4dcb-9a89-0da70722bee3",
   "metadata": {
    "scrolled": true,
    "tags": []
   },
   "outputs": [
    {
     "name": "stdout",
     "output_type": "stream",
     "text": [
      "Calling DetectDominantLanguage\n",
      "{\n",
      "    \"Languages\": [\n",
      "        {\n",
      "            \"LanguageCode\": \"en\",\n",
      "            \"Score\": 0.9653459787368774\n",
      "        }\n",
      "    ],\n",
      "    \"ResponseMetadata\": {\n",
      "        \"HTTPHeaders\": {\n",
      "            \"content-length\": \"64\",\n",
      "            \"content-type\": \"application/x-amz-json-1.1\",\n",
      "            \"date\": \"Mon, 07 Nov 2022 11:06:03 GMT\",\n",
      "            \"x-amzn-requestid\": \"a13a855f-9d56-45f8-8f0d-1846f210b4c7\"\n",
      "        },\n",
      "        \"HTTPStatusCode\": 200,\n",
      "        \"RequestId\": \"a13a855f-9d56-45f8-8f0d-1846f210b4c7\",\n",
      "        \"RetryAttempts\": 0\n",
      "    }\n",
      "}\n"
     ]
    }
   ],
   "source": [
    "DominantLangaugetext = \"It is raining today in Seattle dfsddg\"\n",
    "print('Calling DetectDominantLanguage')\n",
    "print(json.dumps(comprehend.detect_dominant_language(Text = DominantLangaugetext), sort_keys=True, indent=4))\n"
   ]
  },
  {
   "cell_type": "code",
   "execution_count": 4,
   "id": "ed450e3e-b691-4b3c-9e4b-6815b2351504",
   "metadata": {
    "scrolled": true,
    "tags": []
   },
   "outputs": [
    {
     "name": "stdout",
     "output_type": "stream",
     "text": [
      "Calling DetectEntities\n",
      "{\n",
      "    \"Entities\": [\n",
      "        {\n",
      "            \"BeginOffset\": 6,\n",
      "            \"EndOffset\": 15,\n",
      "            \"Score\": 0.9993911981582642,\n",
      "            \"Text\": \"Zhang Wei\",\n",
      "            \"Type\": \"PERSON\"\n",
      "        },\n",
      "        {\n",
      "            \"BeginOffset\": 22,\n",
      "            \"EndOffset\": 56,\n",
      "            \"Score\": 0.9913920164108276,\n",
      "            \"Text\": \"AnyCompany Financial Services, LLC\",\n",
      "            \"Type\": \"ORGANIZATION\"\n",
      "        },\n",
      "        {\n",
      "            \"BeginOffset\": 77,\n",
      "            \"EndOffset\": 96,\n",
      "            \"Score\": 0.957459568977356,\n",
      "            \"Text\": \"1111-0000-1111-0000\",\n",
      "            \"Type\": \"OTHER\"\n",
      "        },\n",
      "        {\n",
      "            \"BeginOffset\": 122,\n",
      "            \"EndOffset\": 128,\n",
      "            \"Score\": 0.9990997910499573,\n",
      "            \"Text\": \"$24.53\",\n",
      "            \"Type\": \"QUANTITY\"\n",
      "        },\n",
      "        {\n",
      "            \"BeginOffset\": 144,\n",
      "            \"EndOffset\": 153,\n",
      "            \"Score\": 0.9997425079345703,\n",
      "            \"Text\": \"July 31st\",\n",
      "            \"Type\": \"DATE\"\n",
      "        }\n",
      "    ],\n",
      "    \"ResponseMetadata\": {\n",
      "        \"HTTPHeaders\": {\n",
      "            \"content-length\": \"533\",\n",
      "            \"content-type\": \"application/x-amz-json-1.1\",\n",
      "            \"date\": \"Mon, 07 Nov 2022 11:06:33 GMT\",\n",
      "            \"x-amzn-requestid\": \"3d2c0de7-f308-4db0-b084-0e29f243f907\"\n",
      "        },\n",
      "        \"HTTPStatusCode\": 200,\n",
      "        \"RequestId\": \"3d2c0de7-f308-4db0-b084-0e29f243f907\",\n",
      "        \"RetryAttempts\": 0\n",
      "    }\n",
      "}\n"
     ]
    }
   ],
   "source": [
    "DetectEntitiestext = \"Hello Zhang Wei. Your AnyCompany Financial Services, LLC credit card account 1111-0000-1111-0000 has a minimum payment of $24.53 that is due by July 31st\"\n",
    "print('Calling DetectEntities')\n",
    "print(json.dumps(comprehend.detect_entities(Text=DetectEntitiestext, LanguageCode='en'), sort_keys=True, indent=4))\n"
   ]
  },
  {
   "cell_type": "code",
   "execution_count": 5,
   "id": "c4e7c4bf-2e40-4585-a792-cc195f80bec4",
   "metadata": {
    "scrolled": true,
    "tags": []
   },
   "outputs": [
    {
     "name": "stdout",
     "output_type": "stream",
     "text": [
      "Calling DetectKeyPhrases\n",
      "{\n",
      "    \"KeyPhrases\": [\n",
      "        {\n",
      "            \"BeginOffset\": 12,\n",
      "            \"EndOffset\": 17,\n",
      "            \"Score\": 0.9786188006401062,\n",
      "            \"Text\": \"brand\"\n",
      "        }\n",
      "    ],\n",
      "    \"ResponseMetadata\": {\n",
      "        \"HTTPHeaders\": {\n",
      "            \"content-length\": \"92\",\n",
      "            \"content-type\": \"application/x-amz-json-1.1\",\n",
      "            \"date\": \"Mon, 07 Nov 2022 11:07:37 GMT\",\n",
      "            \"x-amzn-requestid\": \"58d111db-84dc-4295-b1cb-72201038f50e\"\n",
      "        },\n",
      "        \"HTTPStatusCode\": 200,\n",
      "        \"RequestId\": \"58d111db-84dc-4295-b1cb-72201038f50e\",\n",
      "        \"RetryAttempts\": 0\n",
      "    }\n",
      "}\n"
     ]
    }
   ],
   "source": [
    "DetectKeyPhrasetext = \"Much trused brand in the world\"\n",
    "print('Calling DetectKeyPhrases')\n",
    "print(json.dumps(comprehend.detect_key_phrases(Text=DetectKeyPhrasetext, LanguageCode='en'), sort_keys=True, indent=4))"
   ]
  },
  {
   "cell_type": "code",
   "execution_count": 6,
   "id": "1c632b6f-0887-49e0-b061-02bddd34698e",
   "metadata": {},
   "outputs": [
    {
     "name": "stdout",
     "output_type": "stream",
     "text": [
      "Calling PII entities\n",
      "{\"Entities\": [{\"Score\": 0.9979662895202637, \"Type\": \"NAME\", \"BeginOffset\": 0, \"EndOffset\": 5}, {\"Score\": 0.7997575402259827, \"Type\": \"ADDRESS\", \"BeginOffset\": 25, \"EndOffset\": 31}], \"ResponseMetadata\": {\"RequestId\": \"56feadcb-8b73-42a0-88b7-64100b5eb1cf\", \"HTTPStatusCode\": 200, \"HTTPHeaders\": {\"x-amzn-requestid\": \"56feadcb-8b73-42a0-88b7-64100b5eb1cf\", \"content-type\": \"application/x-amz-json-1.1\", \"content-length\": \"165\", \"date\": \"Mon, 07 Nov 2022 11:10:03 GMT\"}, \"RetryAttempts\": 0}}\n"
     ]
    }
   ],
   "source": [
    "DetectPIItext = \"David this is PIN code - 583209 keep it secrete , don't share it\"\n",
    "print('Calling PII entities')\n",
    "print(json.dumps(comprehend.detect_pii_entities(Text=DetectPIItext, LanguageCode='en')))"
   ]
  },
  {
   "cell_type": "code",
   "execution_count": 7,
   "id": "3adec960-1637-47a0-b458-d61f37346ca8",
   "metadata": {},
   "outputs": [
    {
     "name": "stdout",
     "output_type": "stream",
     "text": [
      "Calling DetectSyntax\n",
      "{\n",
      "    \"ResponseMetadata\": {\n",
      "        \"HTTPHeaders\": {\n",
      "            \"content-length\": \"948\",\n",
      "            \"content-type\": \"application/x-amz-json-1.1\",\n",
      "            \"date\": \"Mon, 07 Nov 2022 11:16:43 GMT\",\n",
      "            \"x-amzn-requestid\": \"62c8427f-57e7-4da6-bfb6-9fee4dddc520\"\n",
      "        },\n",
      "        \"HTTPStatusCode\": 200,\n",
      "        \"RequestId\": \"62c8427f-57e7-4da6-bfb6-9fee4dddc520\",\n",
      "        \"RetryAttempts\": 0\n",
      "    },\n",
      "    \"SyntaxTokens\": [\n",
      "        {\n",
      "            \"BeginOffset\": 0,\n",
      "            \"EndOffset\": 5,\n",
      "            \"PartOfSpeech\": {\n",
      "                \"Score\": 0.9954367876052856,\n",
      "                \"Tag\": \"PROPN\"\n",
      "            },\n",
      "            \"Text\": \"Mohan\",\n",
      "            \"TokenId\": 1\n",
      "        },\n",
      "        {\n",
      "            \"BeginOffset\": 6,\n",
      "            \"EndOffset\": 13,\n",
      "            \"PartOfSpeech\": {\n",
      "                \"Score\": 0.9922149181365967,\n",
      "                \"Tag\": \"VERB\"\n",
      "            },\n",
      "            \"Text\": \"desrves\",\n",
      "            \"TokenId\": 2\n",
      "        },\n",
      "        {\n",
      "            \"BeginOffset\": 14,\n",
      "            \"EndOffset\": 15,\n",
      "            \"PartOfSpeech\": {\n",
      "                \"Score\": 0.9999772906303406,\n",
      "                \"Tag\": \"DET\"\n",
      "            },\n",
      "            \"Text\": \"a\",\n",
      "            \"TokenId\": 3\n",
      "        },\n",
      "        {\n",
      "            \"BeginOffset\": 16,\n",
      "            \"EndOffset\": 19,\n",
      "            \"PartOfSpeech\": {\n",
      "                \"Score\": 0.8564319610595703,\n",
      "                \"Tag\": \"PROPN\"\n",
      "            },\n",
      "            \"Text\": \"MVP\",\n",
      "            \"TokenId\": 4\n",
      "        },\n",
      "        {\n",
      "            \"BeginOffset\": 20,\n",
      "            \"EndOffset\": 25,\n",
      "            \"PartOfSpeech\": {\n",
      "                \"Score\": 0.999413788318634,\n",
      "                \"Tag\": \"NOUN\"\n",
      "            },\n",
      "            \"Text\": \"award\",\n",
      "            \"TokenId\": 5\n",
      "        },\n",
      "        {\n",
      "            \"BeginOffset\": 26,\n",
      "            \"EndOffset\": 29,\n",
      "            \"PartOfSpeech\": {\n",
      "                \"Score\": 0.999626100063324,\n",
      "                \"Tag\": \"ADP\"\n",
      "            },\n",
      "            \"Text\": \"for\",\n",
      "            \"TokenId\": 6\n",
      "        },\n",
      "        {\n",
      "            \"BeginOffset\": 30,\n",
      "            \"EndOffset\": 34,\n",
      "            \"PartOfSpeech\": {\n",
      "                \"Score\": 0.9999170899391174,\n",
      "                \"Tag\": \"DET\"\n",
      "            },\n",
      "            \"Text\": \"this\",\n",
      "            \"TokenId\": 7\n",
      "        },\n",
      "        {\n",
      "            \"BeginOffset\": 35,\n",
      "            \"EndOffset\": 39,\n",
      "            \"PartOfSpeech\": {\n",
      "                \"Score\": 0.9999470710754395,\n",
      "                \"Tag\": \"NOUN\"\n",
      "            },\n",
      "            \"Text\": \"year\",\n",
      "            \"TokenId\": 8\n",
      "        }\n",
      "    ]\n",
      "}\n"
     ]
    }
   ],
   "source": [
    "DetectSyntaxtext = \"Mohan desrves a MVP award for this year\"\n",
    "print('Calling DetectSyntax')\n",
    "print(json.dumps(comprehend.detect_syntax(Text=DetectSyntaxtext, LanguageCode='en'), sort_keys=True, indent=4))\n"
   ]
  },
  {
   "cell_type": "code",
   "execution_count": null,
   "id": "a36645b4-99bc-4607-a5bb-6d55973150f9",
   "metadata": {},
   "outputs": [],
   "source": []
  }
 ],
 "metadata": {
  "kernelspec": {
   "display_name": "Python 3 (ipykernel)",
   "language": "python",
   "name": "python3"
  },
  "language_info": {
   "codemirror_mode": {
    "name": "ipython",
    "version": 3
   },
   "file_extension": ".py",
   "mimetype": "text/x-python",
   "name": "python",
   "nbconvert_exporter": "python",
   "pygments_lexer": "ipython3",
   "version": "3.9.13"
  }
 },
 "nbformat": 4,
 "nbformat_minor": 5
}
