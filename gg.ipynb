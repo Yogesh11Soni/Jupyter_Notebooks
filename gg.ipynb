{
 "cells": [
  {
   "cell_type": "code",
   "execution_count": 2,
   "id": "f9ac456f",
   "metadata": {},
   "outputs": [
    {
     "name": "stdout",
     "output_type": "stream",
     "text": [
      "Defaulting to user installation because normal site-packages is not writeable\n",
      "Requirement already satisfied: opensearch-py in /home/yogeshsoni/.local/lib/python3.8/site-packages (2.0.0)\n",
      "Requirement already satisfied: certifi in /usr/lib/python3/dist-packages (from opensearch-py) (2019.11.28)\n",
      "Requirement already satisfied: requests<3.0.0,>=2.4.0 in /usr/lib/python3/dist-packages (from opensearch-py) (2.22.0)\n",
      "Requirement already satisfied: urllib3<2,>=1.21.1 in /home/yogeshsoni/.local/lib/python3.8/site-packages (from opensearch-py) (1.26.9)\n",
      "\u001b[33mWARNING: There was an error checking the latest version of pip.\u001b[0m\u001b[33m\n",
      "\u001b[0mNote: you may need to restart the kernel to use updated packages.\n"
     ]
    }
   ],
   "source": [
    "pip install opensearch-py"
   ]
  },
  {
   "cell_type": "code",
   "execution_count": 3,
   "id": "4da5c869",
   "metadata": {},
   "outputs": [],
   "source": [
    "from opensearchpy import OpenSearch\n"
   ]
  },
  {
   "cell_type": "code",
   "execution_count": null,
   "id": "b5c2003a",
   "metadata": {},
   "outputs": [],
   "source": []
  }
 ],
 "metadata": {
  "kernelspec": {
   "display_name": "Python 3 (ipykernel)",
   "language": "python",
   "name": "python3"
  },
  "language_info": {
   "codemirror_mode": {
    "name": "ipython",
    "version": 3
   },
   "file_extension": ".py",
   "mimetype": "text/x-python",
   "name": "python",
   "nbconvert_exporter": "python",
   "pygments_lexer": "ipython3",
   "version": "3.8.10"
  }
 },
 "nbformat": 4,
 "nbformat_minor": 5
}
