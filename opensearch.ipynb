{
 "cells": [
  {
   "cell_type": "code",
   "execution_count": 2,
   "metadata": {},
   "outputs": [
    {
     "data": {
      "text/plain": [
       "True"
      ]
     },
     "execution_count": 2,
     "metadata": {},
     "output_type": "execute_result"
    }
   ],
   "source": [
    "import warnings\n",
    "\n",
    "from opensearchpy import OpenSearch\n",
    "\n",
    "host = 'localhost'\n",
    "port = 9200\n",
    "auth = ('admin', 'Test@123') # For testing only. Don't store credentials in code.\n",
    "\n",
    "# Optional client certificates if you don't want to use HTTP basic authentication.\n",
    "# client_cert_path = '/full/path/to/client.pem'\n",
    "# client_key_path = '/full/path/to/client-key.pem'\n",
    "\n",
    "# Create the client with SSL/TLS enabled, but hostname verification disabled.\n",
    "client = OpenSearch(\n",
    "    hosts = 'https://search-flights-practice-2prg66ygjxm22e5hcwrmev5nlm.us-east-1.es.amazonaws.com/',\n",
    "    http_auth = auth,\n",
    "    use_ssl = False,\n",
    "    verify_certs = False,\n",
    "    ssl_show_warn = False,\n",
    ")\n",
    "\n",
    "client.ping()"
   ]
  },
  {
   "cell_type": "code",
   "execution_count": 6,
   "metadata": {},
   "outputs": [
    {
     "data": {
      "text/plain": [
       "{'acknowledged': True, 'shards_acknowledged': True, 'index': 'flights'}"
      ]
     },
     "execution_count": 6,
     "metadata": {},
     "output_type": "execute_result"
    }
   ],
   "source": [
    "client.indices.create(index='flights')"
   ]
  },
  {
   "cell_type": "code",
   "execution_count": 7,
   "metadata": {},
   "outputs": [
    {
     "data": {
      "text/plain": [
       "{'_index': 'flights',\n",
       " '_type': '_doc',\n",
       " '_id': 'ZfYrhYEBubj25NRATI2Z',\n",
       " '_version': 1,\n",
       " 'result': 'created',\n",
       " 'forced_refresh': True,\n",
       " '_shards': {'total': 2, 'successful': 2, 'failed': 0},\n",
       " '_seq_no': 0,\n",
       " '_primary_term': 1}"
      ]
     },
     "execution_count": 7,
     "metadata": {},
     "output_type": "execute_result"
    }
   ],
   "source": [
    "doc = {\n",
    "    'number_of_passangers':100,\n",
    "    'origin':'London',\n",
    "    'destination':'Paris',\n",
    "    'duration':'5 hours'\n",
    "}\n",
    "client.index(index='flights',body=doc,refresh=True)"
   ]
  },
  {
   "cell_type": "code",
   "execution_count": 45,
   "metadata": {},
   "outputs": [
    {
     "data": {
      "text/plain": [
       "{'took': 6,\n",
       " 'timed_out': False,\n",
       " '_shards': {'total': 1, 'successful': 1, 'skipped': 0, 'failed': 0},\n",
       " 'hits': {'total': {'value': 6, 'relation': 'eq'},\n",
       "  'max_score': 1.761049,\n",
       "  'hits': [{'_index': 'historic-agreement2',\n",
       "    '_type': '_doc',\n",
       "    '_id': 'Akna Licence.docx',\n",
       "    '_score': 1.761049,\n",
       "    '_source': {'title': 'GOVERNMENT OF TELANGANALABOUR DEPARTMENTSee Rule ',\n",
       "     'license_number': '. SEA/SAN/ALO/PC/0207293/2020',\n",
       "     'party_name_1': 'AKNA MEDICAL PRIVATE LIMITED',\n",
       "     'party_name_2': 'Not applicable',\n",
       "     'effective_date': '2020-02-03T00:00:00.000000',\n",
       "     'expiry_date': None,\n",
       "     'amounts': '0',\n",
       "     'party_address_1': 'Address  :  AKNA MEDICAL PRIVATE LIMITED,AKNA MEDICAL PRIVATE LIMITEDPLOT NO :- 5&6/25, 5&6/20, IDA PHASE -2, PATANCHERU,',\n",
       "     'party_address_2': 'Not applicable',\n",
       "     'jurisdiction': 'PATANCHERU',\n",
       "     'obligations': 'Not applicable',\n",
       "     'liabilities': 'Not applicable',\n",
       "     'indemnities': 'Not applicable',\n",
       "     'effective_date_for_highlight': '03/02/2020',\n",
       "     'expiry_date_for_highlight': 'Not Found',\n",
       "     'jurisdiction_for_highlight': 'PATANCHERU',\n",
       "     'indemnities_for_highlight': 'Not Found',\n",
       "     'liabilities_for_highlight': 'Not Found',\n",
       "     'obligations_for_highlight': 'Not Found'}},\n",
       "   {'_index': 'historic-agreement2',\n",
       "    '_type': '_doc',\n",
       "    '_id': 'MM.pdf',\n",
       "    '_score': 1.761049,\n",
       "    '_source': {'title': 'GOVERNMENT OF TELANGANALABOUR DEPARTMENTSee Rule ',\n",
       "     'license_number': '. SEA/SAN/ALO/PC/0207293/2020',\n",
       "     'party_name_1': 'AKNA MEDICAL PRIVATE LIMITED',\n",
       "     'party_name_2': 'Not applicable',\n",
       "     'effective_date': '2020-02-03T00:00:00.000000',\n",
       "     'expiry_date': None,\n",
       "     'amounts': '0',\n",
       "     'party_address_1': 'Address  :  AKNA MEDICAL PRIVATE LIMITED,AKNA MEDICAL PRIVATE LIMITEDPLOT NO :- 5&6/25, 5&6/20, IDA PHASE -2, PATANCHERU,',\n",
       "     'party_address_2': 'Not applicable',\n",
       "     'jurisdiction': 'PATANCHERU',\n",
       "     'obligations': 'Not applicable',\n",
       "     'liabilities': 'Not applicable',\n",
       "     'indemnities': 'Not applicable',\n",
       "     'effective_date_for_highlight': '03/02/2020',\n",
       "     'expiry_date_for_highlight': 'Not Found',\n",
       "     'jurisdiction_for_highlight': 'PATANCHERU',\n",
       "     'indemnities_for_highlight': 'Not Found',\n",
       "     'liabilities_for_highlight': 'Not Found',\n",
       "     'obligations_for_highlight': 'Not Found'}},\n",
       "   {'_index': 'historic-agreement2',\n",
       "    '_type': '_doc',\n",
       "    '_id': 'Akna Licence1.pdf',\n",
       "    '_score': 1.761049,\n",
       "    '_source': {'title': 'GOVERNMENT OF TELANGANALABOUR DEPARTMENTSee Rule ',\n",
       "     'license_number': '. SEA/SAN/ALO/PC/0207293/2020',\n",
       "     'party_name_1': 'AKNA MEDICAL PRIVATE LIMITED',\n",
       "     'party_name_2': 'Not applicable',\n",
       "     'effective_date': '2020-02-03T00:00:00.000000',\n",
       "     'expiry_date': None,\n",
       "     'amounts': '0',\n",
       "     'party_address_1': 'Address  :  AKNA MEDICAL PRIVATE LIMITED,AKNA MEDICAL PRIVATE LIMITEDPLOT NO :- 5&6/25, 5&6/20, IDA PHASE -2, PATANCHERU,',\n",
       "     'party_address_2': 'Not applicable',\n",
       "     'jurisdiction': 'PATANCHERU',\n",
       "     'obligations': 'Not applicable',\n",
       "     'liabilities': 'Not applicable',\n",
       "     'indemnities': 'Not applicable',\n",
       "     'effective_date_for_highlight': '03/02/2020',\n",
       "     'expiry_date_for_highlight': 'Not Found',\n",
       "     'jurisdiction_for_highlight': 'PATANCHERU',\n",
       "     'indemnities_for_highlight': 'Not Found',\n",
       "     'liabilities_for_highlight': 'Not Found',\n",
       "     'obligations_for_highlight': 'Not Found'}},\n",
       "   {'_index': 'historic-agreement2',\n",
       "    '_type': '_doc',\n",
       "    '_id': 'Licence AK.pdf',\n",
       "    '_score': 1.761049,\n",
       "    '_source': {'title': 'GOVERNMENT OF TELANGANALABOUR DEPARTMENTSee Rule ',\n",
       "     'license_number': '. SEA/SAN/ALO/PC/0207293/2020',\n",
       "     'party_name_1': 'AKNA MEDICAL PRIVATE LIMITED',\n",
       "     'party_name_2': 'Not applicable',\n",
       "     'effective_date': '2020-02-03T00:00:00.000000',\n",
       "     'expiry_date': None,\n",
       "     'amounts': '0',\n",
       "     'party_address_1': 'Address  :  AKNA MEDICAL PRIVATE LIMITED,AKNA MEDICAL PRIVATE LIMITEDPLOT NO :- 5&6/25, 5&6/20, IDA PHASE -2, PATANCHERU,',\n",
       "     'party_address_2': 'Not applicable',\n",
       "     'jurisdiction': 'PATANCHERU',\n",
       "     'obligations': 'Not applicable',\n",
       "     'liabilities': 'Not applicable',\n",
       "     'indemnities': 'Not applicable',\n",
       "     'effective_date_for_highlight': '03/02/2020',\n",
       "     'expiry_date_for_highlight': 'Not Found',\n",
       "     'jurisdiction_for_highlight': 'PATANCHERU',\n",
       "     'indemnities_for_highlight': 'Not Found',\n",
       "     'liabilities_for_highlight': 'Not Found',\n",
       "     'obligations_for_highlight': 'Not Found'}},\n",
       "   {'_index': 'historic-agreement2',\n",
       "    '_type': '_doc',\n",
       "    '_id': 'Akna Licence.pdf',\n",
       "    '_score': 1.761049,\n",
       "    '_source': {'title': 'GOVERNMENT OF TELANGANALABOUR DEPARTMENTSee Rule ',\n",
       "     'license_number': '. SEA/SAN/ALO/PC/0207293/2020',\n",
       "     'party_name_1': 'AKNA MEDICAL PRIVATE LIMITED',\n",
       "     'party_name_2': 'Not applicable',\n",
       "     'effective_date': '2020-02-03T00:00:00.000000',\n",
       "     'expiry_date': None,\n",
       "     'amounts': '0',\n",
       "     'party_address_1': 'Address  :  AKNA MEDICAL PRIVATE LIMITED,AKNA MEDICAL PRIVATE LIMITEDPLOT NO :- 5&6/25, 5&6/20, IDA PHASE -2, PATANCHERU,',\n",
       "     'party_address_2': 'Not applicable',\n",
       "     'jurisdiction': 'PATANCHERU',\n",
       "     'obligations': 'Not applicable',\n",
       "     'liabilities': 'Not applicable',\n",
       "     'indemnities': 'Not applicable',\n",
       "     'effective_date_for_highlight': '03/02/2020',\n",
       "     'expiry_date_for_highlight': 'Not Found',\n",
       "     'jurisdiction_for_highlight': 'PATANCHERU',\n",
       "     'indemnities_for_highlight': 'Not Found',\n",
       "     'liabilities_for_highlight': 'Not Found',\n",
       "     'obligations_for_highlight': 'Not Found'}},\n",
       "   {'_index': 'historic-agreement2',\n",
       "    '_type': '_doc',\n",
       "    '_id': 'Akna Licence June.pdf',\n",
       "    '_score': 1.761049,\n",
       "    '_source': {'title': 'GOVERNMENT OF TELANGANALABOUR DEPARTMENTSee Rule ',\n",
       "     'license_number': '. SEA/SAN/ALO/PC/0207293/2020',\n",
       "     'party_name_1': 'AKNA MEDICAL PRIVATE LIMITED',\n",
       "     'party_name_2': 'Not applicable',\n",
       "     'effective_date': '2020-02-03T00:00:00.000000',\n",
       "     'expiry_date': None,\n",
       "     'amounts': '0',\n",
       "     'party_address_1': 'Address  :  AKNA MEDICAL PRIVATE LIMITED,AKNA MEDICAL PRIVATE LIMITEDPLOT NO :- 5&6/25, 5&6/20, IDA PHASE -2, PATANCHERU,',\n",
       "     'party_address_2': 'Not applicable',\n",
       "     'jurisdiction': 'PATANCHERU',\n",
       "     'obligations': 'Not applicable',\n",
       "     'liabilities': 'Not applicable',\n",
       "     'indemnities': 'Not applicable',\n",
       "     'effective_date_for_highlight': '03/02/2020',\n",
       "     'expiry_date_for_highlight': 'Not Found',\n",
       "     'jurisdiction_for_highlight': 'PATANCHERU',\n",
       "     'indemnities_for_highlight': 'Not Found',\n",
       "     'liabilities_for_highlight': 'Not Found',\n",
       "     'obligations_for_highlight': 'Not Found'}}]}}"
      ]
     },
     "execution_count": 45,
     "metadata": {},
     "output_type": "execute_result"
    }
   ],
   "source": [
    "q = {\n",
    "  \"query\": {\n",
    "    \"common\": {\n",
    "      \"party_name_1\": {\n",
    "        \"query\": \"AKNA MEDICAL PRIVATE LIMITED\"\n",
    "      }\n",
    "    }\n",
    "  }\n",
    "}\n",
    "\n",
    "res = client.search(index='historic-agreement2',body=q)\n",
    "res"
   ]
  },
  {
   "cell_type": "code",
   "execution_count": 64,
   "metadata": {},
   "outputs": [
    {
     "data": {
      "text/plain": [
       "{'took': 268,\n",
       " 'timed_out': False,\n",
       " '_shards': {'total': 5, 'successful': 5, 'skipped': 0, 'failed': 0},\n",
       " 'hits': {'total': {'value': 1, 'relation': 'eq'},\n",
       "  'max_score': 1.0,\n",
       "  'hits': [{'_index': 'flight',\n",
       "    '_type': '_doc',\n",
       "    '_id': 'ZPYVgYEBubj25NRA0o3W',\n",
       "    '_score': 1.0,\n",
       "    '_source': {'number_of_passangers': 100,\n",
       "     'origin': 'London',\n",
       "     'destination': 'Paris',\n",
       "     'duration': '5 hours'}}]}}"
      ]
     },
     "execution_count": 64,
     "metadata": {},
     "output_type": "execute_result"
    }
   ],
   "source": [
    "q = {\n",
    "    'query':{\n",
    "        'match_all':{}\n",
    "    }\n",
    "}\n",
    "\n",
    "client.search(index='flight',body=q)"
   ]
  },
  {
   "cell_type": "code",
   "execution_count": 57,
   "metadata": {},
   "outputs": [],
   "source": [
    "from opensearchpy import helpers\n",
    "q = {\n",
    "    'query':{\n",
    "        'match_all':{}\n",
    "    }\n",
    "}\n",
    "res = helpers.scan(client,index='historic-agreement2',query=q)"
   ]
  },
  {
   "cell_type": "code",
   "execution_count": 58,
   "metadata": {},
   "outputs": [
    {
     "name": "stdout",
     "output_type": "stream",
     "text": [
      "\n",
      "\n",
      "\n",
      "\n",
      "\n",
      "\n",
      "{'_index': 'historic-agreement2', '_type': '_doc', '_id': 'Akna Licence.docx', '_score': None, '_source': {'title': 'GOVERNMENT OF TELANGANALABOUR DEPARTMENTSee Rule ', 'license_number': '. SEA/SAN/ALO/PC/0207293/2020', 'party_name_1': 'AKNA MEDICAL PRIVATE LIMITED', 'party_name_2': 'Not applicable', 'effective_date': '2020-02-03T00:00:00.000000', 'expiry_date': None, 'amounts': '0', 'party_address_1': 'Address  :  AKNA MEDICAL PRIVATE LIMITED,AKNA MEDICAL PRIVATE LIMITEDPLOT NO :- 5&6/25, 5&6/20, IDA PHASE -2, PATANCHERU,', 'party_address_2': 'Not applicable', 'jurisdiction': 'PATANCHERU', 'obligations': 'Not applicable', 'liabilities': 'Not applicable', 'indemnities': 'Not applicable', 'effective_date_for_highlight': '03/02/2020', 'expiry_date_for_highlight': 'Not Found', 'jurisdiction_for_highlight': 'PATANCHERU', 'indemnities_for_highlight': 'Not Found', 'liabilities_for_highlight': 'Not Found', 'obligations_for_highlight': 'Not Found'}, 'sort': [0]}\n",
      "\n",
      "\n",
      "\n",
      "\n",
      "\n",
      "\n",
      "{'_index': 'historic-agreement2', '_type': '_doc', '_id': 'MM.pdf', '_score': None, '_source': {'title': 'GOVERNMENT OF TELANGANALABOUR DEPARTMENTSee Rule ', 'license_number': '. SEA/SAN/ALO/PC/0207293/2020', 'party_name_1': 'AKNA MEDICAL PRIVATE LIMITED', 'party_name_2': 'Not applicable', 'effective_date': '2020-02-03T00:00:00.000000', 'expiry_date': None, 'amounts': '0', 'party_address_1': 'Address  :  AKNA MEDICAL PRIVATE LIMITED,AKNA MEDICAL PRIVATE LIMITEDPLOT NO :- 5&6/25, 5&6/20, IDA PHASE -2, PATANCHERU,', 'party_address_2': 'Not applicable', 'jurisdiction': 'PATANCHERU', 'obligations': 'Not applicable', 'liabilities': 'Not applicable', 'indemnities': 'Not applicable', 'effective_date_for_highlight': '03/02/2020', 'expiry_date_for_highlight': 'Not Found', 'jurisdiction_for_highlight': 'PATANCHERU', 'indemnities_for_highlight': 'Not Found', 'liabilities_for_highlight': 'Not Found', 'obligations_for_highlight': 'Not Found'}, 'sort': [1]}\n",
      "\n",
      "\n",
      "\n",
      "\n",
      "\n",
      "\n",
      "{'_index': 'historic-agreement2', '_type': '_doc', '_id': 'Akna Licence1.pdf', '_score': None, '_source': {'title': 'GOVERNMENT OF TELANGANALABOUR DEPARTMENTSee Rule ', 'license_number': '. SEA/SAN/ALO/PC/0207293/2020', 'party_name_1': 'AKNA MEDICAL PRIVATE LIMITED', 'party_name_2': 'Not applicable', 'effective_date': '2020-02-03T00:00:00.000000', 'expiry_date': None, 'amounts': '0', 'party_address_1': 'Address  :  AKNA MEDICAL PRIVATE LIMITED,AKNA MEDICAL PRIVATE LIMITEDPLOT NO :- 5&6/25, 5&6/20, IDA PHASE -2, PATANCHERU,', 'party_address_2': 'Not applicable', 'jurisdiction': 'PATANCHERU', 'obligations': 'Not applicable', 'liabilities': 'Not applicable', 'indemnities': 'Not applicable', 'effective_date_for_highlight': '03/02/2020', 'expiry_date_for_highlight': 'Not Found', 'jurisdiction_for_highlight': 'PATANCHERU', 'indemnities_for_highlight': 'Not Found', 'liabilities_for_highlight': 'Not Found', 'obligations_for_highlight': 'Not Found'}, 'sort': [2]}\n",
      "\n",
      "\n",
      "\n",
      "\n",
      "\n",
      "\n",
      "{'_index': 'historic-agreement2', '_type': '_doc', '_id': 'Licence AK.pdf', '_score': None, '_source': {'title': 'GOVERNMENT OF TELANGANALABOUR DEPARTMENTSee Rule ', 'license_number': '. SEA/SAN/ALO/PC/0207293/2020', 'party_name_1': 'AKNA MEDICAL PRIVATE LIMITED', 'party_name_2': 'Not applicable', 'effective_date': '2020-02-03T00:00:00.000000', 'expiry_date': None, 'amounts': '0', 'party_address_1': 'Address  :  AKNA MEDICAL PRIVATE LIMITED,AKNA MEDICAL PRIVATE LIMITEDPLOT NO :- 5&6/25, 5&6/20, IDA PHASE -2, PATANCHERU,', 'party_address_2': 'Not applicable', 'jurisdiction': 'PATANCHERU', 'obligations': 'Not applicable', 'liabilities': 'Not applicable', 'indemnities': 'Not applicable', 'effective_date_for_highlight': '03/02/2020', 'expiry_date_for_highlight': 'Not Found', 'jurisdiction_for_highlight': 'PATANCHERU', 'indemnities_for_highlight': 'Not Found', 'liabilities_for_highlight': 'Not Found', 'obligations_for_highlight': 'Not Found'}, 'sort': [3]}\n",
      "\n",
      "\n",
      "\n",
      "\n",
      "\n",
      "\n",
      "{'_index': 'historic-agreement2', '_type': '_doc', '_id': 'Akna Licence.pdf', '_score': None, '_source': {'title': 'GOVERNMENT OF TELANGANALABOUR DEPARTMENTSee Rule ', 'license_number': '. SEA/SAN/ALO/PC/0207293/2020', 'party_name_1': 'AKNA MEDICAL PRIVATE LIMITED', 'party_name_2': 'Not applicable', 'effective_date': '2020-02-03T00:00:00.000000', 'expiry_date': None, 'amounts': '0', 'party_address_1': 'Address  :  AKNA MEDICAL PRIVATE LIMITED,AKNA MEDICAL PRIVATE LIMITEDPLOT NO :- 5&6/25, 5&6/20, IDA PHASE -2, PATANCHERU,', 'party_address_2': 'Not applicable', 'jurisdiction': 'PATANCHERU', 'obligations': 'Not applicable', 'liabilities': 'Not applicable', 'indemnities': 'Not applicable', 'effective_date_for_highlight': '03/02/2020', 'expiry_date_for_highlight': 'Not Found', 'jurisdiction_for_highlight': 'PATANCHERU', 'indemnities_for_highlight': 'Not Found', 'liabilities_for_highlight': 'Not Found', 'obligations_for_highlight': 'Not Found'}, 'sort': [4]}\n",
      "\n",
      "\n",
      "\n",
      "\n",
      "\n",
      "\n",
      "{'_index': 'historic-agreement2', '_type': '_doc', '_id': 'Akna Licence June.pdf', '_score': None, '_source': {'title': 'GOVERNMENT OF TELANGANALABOUR DEPARTMENTSee Rule ', 'license_number': '. SEA/SAN/ALO/PC/0207293/2020', 'party_name_1': 'AKNA MEDICAL PRIVATE LIMITED', 'party_name_2': 'Not applicable', 'effective_date': '2020-02-03T00:00:00.000000', 'expiry_date': None, 'amounts': '0', 'party_address_1': 'Address  :  AKNA MEDICAL PRIVATE LIMITED,AKNA MEDICAL PRIVATE LIMITEDPLOT NO :- 5&6/25, 5&6/20, IDA PHASE -2, PATANCHERU,', 'party_address_2': 'Not applicable', 'jurisdiction': 'PATANCHERU', 'obligations': 'Not applicable', 'liabilities': 'Not applicable', 'indemnities': 'Not applicable', 'effective_date_for_highlight': '03/02/2020', 'expiry_date_for_highlight': 'Not Found', 'jurisdiction_for_highlight': 'PATANCHERU', 'indemnities_for_highlight': 'Not Found', 'liabilities_for_highlight': 'Not Found', 'obligations_for_highlight': 'Not Found'}, 'sort': [5]}\n",
      "\n",
      "\n",
      "\n",
      "\n",
      "\n",
      "\n",
      "{'_index': 'historic-agreement2', '_type': '_doc', '_id': 'Bounty LLP MSA xxxxyy1234.pdf', '_score': None, '_source': {'title': 'N o t   F o u n d', 'license_number': 'Not Found', 'party_name_1': 'Yazaki Enterprises', 'party_name_2': 'Not applicable', 'effective_date': '2022-10-02T00:00:00.000000', 'expiry_date': '2028-10-02T00:00:00.000000', 'amounts': '0', 'party_address_1': '125, Gali 42, Jor bagh, New Delhi 110011hereinafterCyberhub Phase 2 DLF, Gurgaon 122003, India', 'party_address_2': 'Not applicable', 'jurisdiction': 'New Delhi India', 'obligations': 'Not applicable', 'liabilities': 'Not applicable', 'indemnities': 'Not applicable', 'effective_date_for_highlight': 'Tenth of February Twwo Thousand Twemty One', 'expiry_date_for_highlight': '(6) years', 'jurisdiction_for_highlight': 'New Delhi India', 'indemnities_for_highlight': 'Not Found', 'liabilities_for_highlight': 'Not Found', 'obligations_for_highlight': 'Not Found'}, 'sort': [6]}\n",
      "\n",
      "\n",
      "\n",
      "\n",
      "\n",
      "\n",
      "{'_index': 'historic-agreement2', '_type': '_doc', '_id': 'DL worst version.pdf', '_score': None, '_source': {'title': 'DCDR \\nNoa', 'license_number': 'Not Found', 'party_name_1': 'Office of the Assistant Drugs Controller, Drugs Control Department', 'party_name_2': 'Not applicable', 'effective_date': '2020-07-28T00:00:00.000000', 'expiry_date': None, 'amounts': '$3s61e•2e/0yfz01g', 'party_address_1': 'DepL Palace Road\\n\\nBangalore', 'party_address_2': 'Not applicable', 'jurisdiction': 'Bangalore', 'obligations': 'Not applicable', 'liabilities': 'Not applicable', 'indemnities': 'Not applicable', 'effective_date_for_highlight': '28.Jul-2020', 'expiry_date_for_highlight': 'Not Found', 'jurisdiction_for_highlight': 'Bangalore', 'indemnities_for_highlight': 'Not Found', 'liabilities_for_highlight': 'Not Found', 'obligations_for_highlight': 'Not Found'}, 'sort': [7]}\n",
      "\n",
      "\n",
      "\n",
      "\n",
      "\n",
      "\n",
      "{'_index': 'historic-agreement2', '_type': '_doc', '_id': 'DL best version.pdf', '_score': None, '_source': {'title': 'GOVERNMENT OF ANDHRA PRADESHDRUGS CONTROL ADMINISTRATION', 'license_number': ': AP/06/02/2021-15449', 'party_name_1': 'KOMARAVALLI VENU( INTER)', 'party_name_2': 'Not applicable', 'effective_date': '2021-01-27T00:00:00.000000', 'expiry_date': '2026-01-26T00:00:00.000000', 'amounts': '0', 'party_address_1': 'GROUND FLOOR, VIDYADHARAPURAM, R.R. NAGARKABELA ROAD,VIJAYAWADA', 'party_address_2': 'Not applicable', 'jurisdiction': 'VIDYADHARAPURAM', 'obligations': 'Not applicable', 'liabilities': 'Not applicable', 'indemnities': 'Not applicable', 'effective_date_for_highlight': '27-01-2021', 'expiry_date_for_highlight': '26-01-2026', 'jurisdiction_for_highlight': 'VIDYADHARAPURAM', 'indemnities_for_highlight': 'Not Found', 'liabilities_for_highlight': 'Not Found', 'obligations_for_highlight': 'Not Found'}, 'sort': [8]}\n",
      "\n",
      "\n",
      "\n",
      "\n",
      "\n",
      "\n",
      "{'_index': 'historic-agreement2', '_type': '_doc', '_id': 'OSqkgIEB6VYYjawSPxH3', '_score': None, '_source': {'from': 0, 'size': 45, 'query': {'match_all': {}}}, 'sort': [9]}\n",
      "\n",
      "\n",
      "\n",
      "\n",
      "\n",
      "\n",
      "{'_index': 'historic-agreement2', '_type': '_doc', '_id': 'OyqkgIEB6VYYjawSuhHH', '_score': None, '_source': {'from': 0, 'size': 45, 'query': {'match': {'value': 'dasada'}}}, 'sort': [10]}\n",
      "\n",
      "\n",
      "\n",
      "\n",
      "\n",
      "\n",
      "{'_index': 'historic-agreement2', '_type': '_doc', '_id': 'PSqkgIEB6VYYjawS_RHg', '_score': None, '_source': {'from': 0, 'size': 45, 'query': {'match_all': {}}}, 'sort': [11]}\n"
     ]
    }
   ],
   "source": [
    "for i in res:\n",
    "    print('\\n'*5)\n",
    "    print(i)"
   ]
  },
  {
   "cell_type": "code",
   "execution_count": null,
   "metadata": {},
   "outputs": [],
   "source": []
  }
 ],
 "metadata": {
  "kernelspec": {
   "display_name": "Python 3 (ipykernel)",
   "language": "python",
   "name": "python3"
  },
  "language_info": {
   "codemirror_mode": {
    "name": "ipython",
    "version": 3
   },
   "file_extension": ".py",
   "mimetype": "text/x-python",
   "name": "python",
   "nbconvert_exporter": "python",
   "pygments_lexer": "ipython3",
   "version": "3.8.10"
  },
  "vscode": {
   "interpreter": {
    "hash": "d532accfd5d567cce40bca613fece22aa6e5c6d55b7eba8a8e9be8af0d4ad655"
   }
  }
 },
 "nbformat": 4,
 "nbformat_minor": 2
}
