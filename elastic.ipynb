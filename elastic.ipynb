{
 "cells": [
  {
   "cell_type": "code",
   "execution_count": 1,
   "id": "6ec8be2d",
   "metadata": {},
   "outputs": [
    {
     "name": "stderr",
     "output_type": "stream",
     "text": [
      "/usr/lib/python3/dist-packages/requests/__init__.py:89: RequestsDependencyWarning: urllib3 (1.26.9) or chardet (3.0.4) doesn't match a supported version!\n",
      "  warnings.warn(\"urllib3 ({}) or chardet ({}) doesn't match a supported \"\n"
     ]
    }
   ],
   "source": [
    "import urllib3\n",
    "from elasticsearch import Elasticsearch"
   ]
  },
  {
   "cell_type": "markdown",
   "id": "d2ba457b",
   "metadata": {},
   "source": [
    "## Configuring ElasticSearch"
   ]
  },
  {
   "cell_type": "code",
   "execution_count": 2,
   "id": "d5ae5669",
   "metadata": {},
   "outputs": [
    {
     "data": {
      "text/plain": [
       "True"
      ]
     },
     "execution_count": 2,
     "metadata": {},
     "output_type": "execute_result"
    }
   ],
   "source": [
    "# Elastic search configuation\n",
    "\n",
    "es = Elasticsearch(hosts=[\"https://localhost:9200\"],basic_auth=('elastic','bvxL*B3U4Ks8yk2bETD6'),verify_certs=False, ssl_show_warn=False)\n",
    "es.ping()"
   ]
  },
  {
   "cell_type": "markdown",
   "id": "0bde3123",
   "metadata": {},
   "source": [
    "### Creating index"
   ]
  },
  {
   "cell_type": "code",
   "execution_count": 3,
   "id": "871c9d5f",
   "metadata": {},
   "outputs": [
    {
     "data": {
      "text/plain": [
       "ObjectApiResponse({'acknowledged': True, 'shards_acknowledged': True, 'index': 'first_index'})"
      ]
     },
     "execution_count": 3,
     "metadata": {},
     "output_type": "execute_result"
    }
   ],
   "source": [
    "#creating index\n",
    "es.indices.create(index=\"first_index\")"
   ]
  },
  {
   "cell_type": "code",
   "execution_count": 4,
   "id": "344c3f4a",
   "metadata": {},
   "outputs": [
    {
     "data": {
      "text/plain": [
       "HeadApiResponse(True)"
      ]
     },
     "execution_count": 4,
     "metadata": {},
     "output_type": "execute_result"
    }
   ],
   "source": [
    "#looking if the index exists\n",
    "\n",
    "es.indices.exists(index=\"first_index\")"
   ]
  },
  {
   "cell_type": "markdown",
   "id": "9d65a30a",
   "metadata": {},
   "source": [
    "### Deleting an index"
   ]
  },
  {
   "cell_type": "code",
   "execution_count": 5,
   "id": "92ac925f",
   "metadata": {},
   "outputs": [
    {
     "data": {
      "text/plain": [
       "ObjectApiResponse({'acknowledged': True})"
      ]
     },
     "execution_count": 5,
     "metadata": {},
     "output_type": "execute_result"
    }
   ],
   "source": [
    "# delete index\n",
    "\n",
    "es.indices.delete(index=\"first_index\")"
   ]
  },
  {
   "cell_type": "code",
   "execution_count": 6,
   "id": "b74fc154",
   "metadata": {},
   "outputs": [
    {
     "data": {
      "text/plain": [
       "HeadApiResponse(False)"
      ]
     },
     "execution_count": 6,
     "metadata": {},
     "output_type": "execute_result"
    }
   ],
   "source": [
    "es.indices.exists(index=\"first_index\")"
   ]
  },
  {
   "cell_type": "markdown",
   "id": "e8d8bd00",
   "metadata": {},
   "source": [
    "### Inserting and getting data "
   ]
  },
  {
   "cell_type": "code",
   "execution_count": 7,
   "id": "0b1a6671",
   "metadata": {},
   "outputs": [
    {
     "data": {
      "text/plain": [
       "ObjectApiResponse({'_index': 'cities', '_id': '1', '_version': 2, 'result': 'updated', '_shards': {'total': 2, 'successful': 1, 'failed': 0}, '_seq_no': 3, '_primary_term': 3})"
      ]
     },
     "execution_count": 7,
     "metadata": {},
     "output_type": "execute_result"
    }
   ],
   "source": [
    "# Inserting data \n",
    "\n",
    "doc_1 = {\"city\": \"Paris\", \"country\": \"France\"}\n",
    "doc_2 = {\"city\": \"Vienna\", \"country\": \"Austria\"}\n",
    "doc_3 = {\"city\": \"London\", \"country\": \"England\"}\n",
    "\n",
    "es.index(index=\"cities\",id=1, document=doc_1)\n"
   ]
  },
  {
   "cell_type": "code",
   "execution_count": 8,
   "id": "55463431",
   "metadata": {},
   "outputs": [
    {
     "data": {
      "text/plain": [
       "ObjectApiResponse({'_index': 'cities', '_id': '2', '_version': 2, 'result': 'updated', '_shards': {'total': 2, 'successful': 1, 'failed': 0}, '_seq_no': 4, '_primary_term': 3})"
      ]
     },
     "execution_count": 8,
     "metadata": {},
     "output_type": "execute_result"
    }
   ],
   "source": [
    "es.index(index=\"cities\",id=2, document=doc_2)"
   ]
  },
  {
   "cell_type": "code",
   "execution_count": 9,
   "id": "90fe1a34",
   "metadata": {},
   "outputs": [
    {
     "data": {
      "text/plain": [
       "ObjectApiResponse({'_index': 'cities', '_id': '3', '_version': 2, 'result': 'updated', '_shards': {'total': 2, 'successful': 1, 'failed': 0}, '_seq_no': 5, '_primary_term': 3})"
      ]
     },
     "execution_count": 9,
     "metadata": {},
     "output_type": "execute_result"
    }
   ],
   "source": [
    "es.index(index=\"cities\",id=3, document=doc_3)"
   ]
  },
  {
   "cell_type": "code",
   "execution_count": 11,
   "id": "7645ce2e",
   "metadata": {},
   "outputs": [
    {
     "data": {
      "text/plain": [
       "ObjectApiResponse({'_index': 'cities', '_id': '3', '_version': 2, '_seq_no': 5, '_primary_term': 3, 'found': True, '_source': {'city': 'London', 'country': 'England'}})"
      ]
     },
     "execution_count": 11,
     "metadata": {},
     "output_type": "execute_result"
    }
   ],
   "source": [
    "# Getting the data\n",
    "\n",
    "res = es.get(index=\"cities\",id=3)\n",
    "res"
   ]
  },
  {
   "cell_type": "code",
   "execution_count": 12,
   "id": "276d3f17",
   "metadata": {},
   "outputs": [
    {
     "data": {
      "text/plain": [
       "{'city': 'London', 'country': 'England'}"
      ]
     },
     "execution_count": 12,
     "metadata": {},
     "output_type": "execute_result"
    }
   ],
   "source": [
    "# Get the data which is prestent in the _source key \n",
    "\n",
    "res[\"_source\"]"
   ]
  },
  {
   "cell_type": "markdown",
   "id": "d1e59fac",
   "metadata": {},
   "source": [
    "### Search query and matching documents "
   ]
  },
  {
   "cell_type": "code",
   "execution_count": 13,
   "id": "d955553b",
   "metadata": {},
   "outputs": [
    {
     "data": {
      "text/plain": [
       "ObjectApiResponse({'_index': 'english', '_id': '2', '_version': 2, 'result': 'updated', '_shards': {'total': 2, 'successful': 1, 'failed': 0}, '_seq_no': 3, '_primary_term': 3})"
      ]
     },
     "execution_count": 13,
     "metadata": {},
     "output_type": "execute_result"
    }
   ],
   "source": [
    "#Creating out data \n",
    "\n",
    "doc_1 = {\"sentence\": \"Hack Covid-19 is amazing1\"}\n",
    "doc_1 = {\"sentence\": \"Hack Quarantine is stunning!\"}\n",
    "\n",
    "es.index(index=\"english\", id=1, document= doc_1)\n",
    "es.index(index=\"english\", id=2, document= doc_2)"
   ]
  },
  {
   "cell_type": "code",
   "execution_count": 14,
   "id": "8a929921",
   "metadata": {},
   "outputs": [
    {
     "data": {
      "text/plain": [
       "ObjectApiResponse({'took': 970, 'timed_out': False, '_shards': {'total': 1, 'successful': 1, 'skipped': 0, 'failed': 0}, 'hits': {'total': {'value': 1, 'relation': 'eq'}, 'max_score': 0.2876821, 'hits': [{'_index': 'english', '_id': '1', '_score': 0.2876821, '_source': {'sentence': 'Hack Quarantine is stunning!'}}]}})"
      ]
     },
     "execution_count": 14,
     "metadata": {},
     "output_type": "execute_result"
    }
   ],
   "source": [
    "#creatingh our query \n",
    "## Match query \n",
    "\n",
    "body = {\n",
    "        \"match\":{\n",
    "            \"sentence\":\"Hack\"\n",
    "        }\n",
    "    }\n",
    "\n",
    "res = es.search(index=\"english\", query=body)\n",
    "res"
   ]
  },
  {
   "cell_type": "code",
   "execution_count": 15,
   "id": "a3cc8a53",
   "metadata": {},
   "outputs": [
    {
     "data": {
      "text/plain": [
       "ObjectApiResponse({'took': 6, 'timed_out': False, '_shards': {'total': 1, 'successful': 1, 'skipped': 0, 'failed': 0}, 'hits': {'total': {'value': 1, 'relation': 'eq'}, 'max_score': 0.2876821, 'hits': [{'_index': 'english', '_id': '1', '_score': 0.2876821, '_source': {'sentence': 'Hack Quarantine is stunning!'}}]}})"
      ]
     },
     "execution_count": 15,
     "metadata": {},
     "output_type": "execute_result"
    }
   ],
   "source": [
    "body = {\n",
    "        \"match\":{\n",
    "            \"sentence\":\"Quarantine\"\n",
    "        }\n",
    "    }\n",
    "\n",
    "res = es.search(index=\"english\", query=body)\n",
    "res"
   ]
  },
  {
   "cell_type": "code",
   "execution_count": 41,
   "id": "4e763630",
   "metadata": {},
   "outputs": [
    {
     "data": {
      "text/plain": [
       "{'took': 3,\n",
       " 'timed_out': False,\n",
       " '_shards': {'total': 1, 'successful': 1, 'skipped': 0, 'failed': 0},\n",
       " 'hits': {'total': {'value': 1, 'relation': 'eq'},\n",
       "  'max_score': 0.5753642,\n",
       "  'hits': [{'_index': 'english',\n",
       "    '_type': 'senetence',\n",
       "    '_id': '1',\n",
       "    '_score': 0.5753642,\n",
       "    '_source': {'sentence': 'Hack Quarantine is stunning!'}}]}}"
      ]
     },
     "execution_count": 41,
     "metadata": {},
     "output_type": "execute_result"
    }
   ],
   "source": [
    "body= {\n",
    "    \"from\":0,\n",
    "    \"size\":2,\n",
    "    \"query\": {\n",
    "        \"match\":{\n",
    "            \"sentence\": \"Hack Quarantine\"\n",
    "        }\n",
    "    }\n",
    "}\n",
    "\n",
    "res= es.search(index=\"english\", body=body)\n",
    "res"
   ]
  },
  {
   "cell_type": "markdown",
   "id": "5b97ccd5",
   "metadata": {},
   "source": [
    "### Combining Queries"
   ]
  },
  {
   "cell_type": "code",
   "execution_count": null,
   "id": "51f6235b",
   "metadata": {},
   "outputs": [],
   "source": []
  }
 ],
 "metadata": {
  "kernelspec": {
   "display_name": "Python 3 (ipykernel)",
   "language": "python",
   "name": "python3"
  },
  "language_info": {
   "codemirror_mode": {
    "name": "ipython",
    "version": 3
   },
   "file_extension": ".py",
   "mimetype": "text/x-python",
   "name": "python",
   "nbconvert_exporter": "python",
   "pygments_lexer": "ipython3",
   "version": "3.8.10"
  }
 },
 "nbformat": 4,
 "nbformat_minor": 5
}
