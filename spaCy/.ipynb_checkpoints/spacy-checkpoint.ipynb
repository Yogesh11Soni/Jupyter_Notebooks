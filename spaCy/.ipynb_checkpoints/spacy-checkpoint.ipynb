{
 "cells": [
  {
   "cell_type": "code",
   "execution_count": 1,
   "id": "21ab133e-3166-4e3b-bf45-9394a10ed8d5",
   "metadata": {},
   "outputs": [
    {
     "data": {
      "text/plain": [
       "<spacy.lang.en.English at 0x7f97da51e0d0>"
      ]
     },
     "execution_count": 1,
     "metadata": {},
     "output_type": "execute_result"
    }
   ],
   "source": [
    "import spacy\n",
    "spacy.load('en_core_web_sm')\n"
   ]
  },
  {
   "cell_type": "code",
   "execution_count": 2,
   "id": "3b147c3c-a426-47d5-869a-0fda6ac2330c",
   "metadata": {},
   "outputs": [],
   "source": [
    "from spacy.lang.en import English"
   ]
  },
  {
   "cell_type": "code",
   "execution_count": 9,
   "id": "ce08d222-96c7-4a75-8063-9f24581928cc",
   "metadata": {},
   "outputs": [],
   "source": [
    "nlp = English()"
   ]
  },
  {
   "cell_type": "code",
   "execution_count": 10,
   "id": "39887e57-21f8-4bcd-bec2-eb4a2aa0fc28",
   "metadata": {},
   "outputs": [
    {
     "name": "stdout",
     "output_type": "stream",
     "text": [
      "Hello\n",
      "World\n",
      "!\n"
     ]
    }
   ],
   "source": [
    "doc = nlp(\"Hello World!\")\n",
    "\n",
    "for token in doc:\n",
    "    print(token.text)\n",
    "    "
   ]
  },
  {
   "cell_type": "code",
   "execution_count": 11,
   "id": "3b2993c5-baa2-48f3-89c4-48004d57efad",
   "metadata": {},
   "outputs": [
    {
     "name": "stdout",
     "output_type": "stream",
     "text": [
      "Hello\n"
     ]
    }
   ],
   "source": [
    "token = doc[0]\n",
    "print(token.text)"
   ]
  },
  {
   "cell_type": "code",
   "execution_count": 12,
   "id": "578d7462-fa0f-4bcf-bea2-b4c2825fddb3",
   "metadata": {},
   "outputs": [
    {
     "name": "stdout",
     "output_type": "stream",
     "text": [
      "World!\n"
     ]
    }
   ],
   "source": [
    "span = doc[1:3]\n",
    "\n",
    "print(span.text)"
   ]
  },
  {
   "cell_type": "code",
   "execution_count": 13,
   "id": "7205243f-22ca-4e7b-a564-d521c2c0f256",
   "metadata": {},
   "outputs": [
    {
     "name": "stdout",
     "output_type": "stream",
     "text": [
      "Index:    [0, 1, 2, 3, 4]\n",
      "Text:     ['It', 'costs', '$', '5', '.']\n",
      "is_alpha: [True, True, False, False, False]\n",
      "is_punct: [False, False, False, False, True]\n",
      "like_num: [False, False, False, True, False]\n"
     ]
    }
   ],
   "source": [
    "# %load_ext heat\n",
    "    \n",
    "# %%heat    \n",
    "\n",
    "doc1 = nlp(\"It costs $5.\")\n",
    " \n",
    "print(\"Index:   \", [token.i for token in doc1])\n",
    "print(\"Text:    \", [token.text for token in doc1])\n",
    "print(\"is_alpha:\", [token.is_alpha for token in doc1])\n",
    "print(\"is_punct:\", [token.is_punct for token in doc1])\n",
    "print(\"like_num:\", [token.like_num for token in doc1])\n"
   ]
  },
  {
   "cell_type": "code",
   "execution_count": 14,
   "id": "787e01e3-5c5f-4ed5-b356-539b7bfde0b7",
   "metadata": {},
   "outputs": [
    {
     "data": {
      "text/plain": [
       "<spacy.lang.en.English at 0x7f97d8a81ca0>"
      ]
     },
     "execution_count": 14,
     "metadata": {},
     "output_type": "execute_result"
    }
   ],
   "source": [
    "nlp = spacy.load(\"en_core_web_sm\")\n",
    "nlp"
   ]
  },
  {
   "cell_type": "code",
   "execution_count": 15,
   "id": "f94ba275-e33a-43c9-bebc-fd4b12907865",
   "metadata": {},
   "outputs": [
    {
     "name": "stdout",
     "output_type": "stream",
     "text": [
      "she PRON\n",
      "ate VERB\n",
      "the DET\n",
      "pizza NOUN\n"
     ]
    }
   ],
   "source": [
    "doc = nlp(\"she ate the pizza\")\n",
    "\n",
    "for token in doc:\n",
    "    print(token.text, token.pos_)"
   ]
  },
  {
   "cell_type": "code",
   "execution_count": 16,
   "id": "b09d9551-66dc-4ad4-8cb2-b7f5e0d41be0",
   "metadata": {},
   "outputs": [
    {
     "name": "stdout",
     "output_type": "stream",
     "text": [
      "she PRON nsubj ate\n",
      "ate VERB ROOT ate\n",
      "the DET det pizza\n",
      "pizza NOUN dobj ate\n"
     ]
    }
   ],
   "source": [
    "for token in doc:\n",
    "    print(token.text, token.pos_, token.dep_, token.head.text)"
   ]
  },
  {
   "cell_type": "code",
   "execution_count": 32,
   "id": "54c4855c-77fb-4209-a2c4-e963fcfdc754",
   "metadata": {},
   "outputs": [
    {
     "name": "stdout",
     "output_type": "stream",
     "text": [
      "Delhi GPE\n"
     ]
    }
   ],
   "source": [
    "doc = nlp(\"Mark, i am from Delhi\")\n",
    "\n",
    "for ent in doc.ents:\n",
    "    print(ent.text, ent.label_)"
   ]
  },
  {
   "cell_type": "code",
   "execution_count": 33,
   "id": "28ca2db7-509b-4df5-8ca7-06dfd8b69b1b",
   "metadata": {},
   "outputs": [
    {
     "data": {
      "text/plain": [
       "'Countries, cities, states'"
      ]
     },
     "execution_count": 33,
     "metadata": {},
     "output_type": "execute_result"
    }
   ],
   "source": [
    "spacy.explain(\"GPE\")    #geopolitical entity"
   ]
  },
  {
   "cell_type": "code",
   "execution_count": 17,
   "id": "713e5989-39c2-43bf-b4d7-35209242a64b",
   "metadata": {},
   "outputs": [
    {
     "data": {
      "text/plain": [
       "'Companies, agencies, institutions, etc.'"
      ]
     },
     "execution_count": 17,
     "metadata": {},
     "output_type": "execute_result"
    }
   ],
   "source": [
    "spacy.explain(\"ORG\")"
   ]
  },
  {
   "cell_type": "code",
   "execution_count": 75,
   "id": "79eb3a5c-1b9c-4a36-bc3d-5179cb572751",
   "metadata": {},
   "outputs": [
    {
     "name": "stdout",
     "output_type": "stream",
     "text": [
      "iphone X\n"
     ]
    }
   ],
   "source": [
    "from spacy.matcher import Matcher\n",
    "\n",
    "nlp = spacy.load(\"en_core_web_sm\")\n",
    "\n",
    "matcher = Matcher(nlp.vocab)\n",
    "pattern = [[{\"TEXT\": \"iphone\"}, {\"TEXT\": \"X\"}]]\n",
    "matcher.add(\"IPHONE_PATTERN\", pattern)\n",
    "\n",
    "doc = nlp(\"Upcoming iphone X release date leaked\")\n",
    "matches = matcher(doc)\n",
    "\n",
    "for match_id, start, end in matches:\n",
    "    matched_span = doc[start:end]\n",
    "    print(matched_span.text)"
   ]
  },
  {
   "cell_type": "markdown",
   "id": "77b6a2b0-3bfd-410e-a89e-8986303eafd3",
   "metadata": {},
   "source": [
    "Matching Lexical Attributes"
   ]
  },
  {
   "cell_type": "code",
   "execution_count": 85,
   "id": "c0c5213c-5d73-4037-ae3e-19730ab6d9af",
   "metadata": {},
   "outputs": [
    {
     "name": "stdout",
     "output_type": "stream",
     "text": [
      "2018 FIFA World Cup:\n"
     ]
    }
   ],
   "source": [
    "matcher = Matcher(nlp.vocab)\n",
    "\n",
    "pattern = [[\n",
    "    {\"IS_DIGIT\": True},\n",
    "    {\"LOWER\":\"fifa\"},\n",
    "    {\"LOWER\":\"world\"},\n",
    "    {\"LOWER\":\"cup\"},\n",
    "    {\"IS_PUNCT\":True}\n",
    "]]\n",
    "\n",
    "matcher.add(\"WORLD_CUP\", pattern)\n",
    "\n",
    "doc = nlp(\"2018 FIFA World Cup: France won!\")\n",
    "\n",
    "matches = matcher(doc)\n",
    "\n",
    "for match_id, start, end in matches:\n",
    "    matched_span = doc[start:end]\n",
    "    print(matched_span.text)"
   ]
  },
  {
   "cell_type": "code",
   "execution_count": 92,
   "id": "6ee6d3a0-f082-434e-8dc5-7ded14cbf893",
   "metadata": {},
   "outputs": [
    {
     "name": "stdout",
     "output_type": "stream",
     "text": [
      "[(11733776681189088885, 1, 3), (11733776681189088885, 6, 8)]\n",
      "loved dogs\n",
      "love cats\n"
     ]
    }
   ],
   "source": [
    "matcher = Matcher(nlp.vocab)\n",
    "\n",
    "pattern = [[\n",
    "    {\"LEMMA\": \"love\", \"POS\":\"VERB\"},\n",
    "    {\"POS\":\"NOUN\"}\n",
    "]]\n",
    "\n",
    "matcher.add(\"LOVE_cat\", pattern)\n",
    "\n",
    "doc = nlp(\"I loved dogs but now i love cats more.\")\n",
    "\n",
    "print(matches)\n",
    "for match_id, start, end in matches:\n",
    "    matched_span = doc[start:end]\n",
    "    print(matched_span.text)"
   ]
  },
  {
   "cell_type": "code",
   "execution_count": null,
   "id": "61ccc3e4-418a-4712-81b3-cc59a4eff99e",
   "metadata": {},
   "outputs": [],
   "source": []
  }
 ],
 "metadata": {
  "kernelspec": {
   "display_name": "Python 3 (ipykernel)",
   "language": "python",
   "name": "python3"
  },
  "language_info": {
   "codemirror_mode": {
    "name": "ipython",
    "version": 3
   },
   "file_extension": ".py",
   "mimetype": "text/x-python",
   "name": "python",
   "nbconvert_exporter": "python",
   "pygments_lexer": "ipython3",
   "version": "3.9.13"
  }
 },
 "nbformat": 4,
 "nbformat_minor": 5
}
