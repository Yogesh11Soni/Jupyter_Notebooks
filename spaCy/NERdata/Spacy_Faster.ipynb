{
 "cells": [
  {
   "cell_type": "markdown",
   "id": "24cb3547-f9d0-4a66-8b35-7e1b41a34334",
   "metadata": {
    "tags": []
   },
   "source": [
    "# Processing text"
   ]
  },
  {
   "cell_type": "markdown",
   "id": "4e8085a0-4094-4717-b304-ce68d6565f48",
   "metadata": {},
   "source": [
    " we’re using nlp.pipe to process a (potentially very large) iterable of texts as a stream. Because we’re only accessing the named entities in doc.ents (set by the ner component), we’ll disable all other components during processing. nlp.pipe yields Doc objects, so we can iterate over them and access the named entity predictions:"
   ]
  },
  {
   "cell_type": "markdown",
   "id": "339e6d5f-d12d-4262-a821-601f0b043894",
   "metadata": {},
   "source": [
    "# Multiprocessing"
   ]
  },
  {
   "cell_type": "markdown",
   "id": "b6785631-7836-4a70-836a-af6719dbbce5",
   "metadata": {},
   "source": [
    "spaCy includes built-in support for multiprocessing with nlp.pipe using the n_process option:"
   ]
  },
  {
   "cell_type": "markdown",
   "id": "fef6e831-eccd-4d52-adb1-a05b091d1968",
   "metadata": {},
   "source": [
    "Example"
   ]
  },
  {
   "cell_type": "code",
   "execution_count": 64,
   "id": "0e113583-5c1a-4004-b127-e211f0d5aca4",
   "metadata": {
    "scrolled": true,
    "tags": []
   },
   "outputs": [
    {
     "name": "stdout",
     "output_type": "stream",
     "text": [
      "5415\n"
     ]
    }
   ],
   "source": [
    "import spacy\n",
    "import time\n",
    "texts =\"\"\"Children are of most importance to parents since they represent the parent’s hopes, ambitions and indeed future. As such, most parents cherish and love their children and try to provide a quality life for them. Even so, not all children are cherished and loved as they should be and some live a life filled with risk and danger. Sadly, this precarious environment is created not by strangers but by the people who are closest to the children. In such a scenario, the intervention of various organizations such as social services, the police and the school may be necessary to remove the child from risk. This essay will provide a critical analysis of the Green paper “Every Child Matters” presented in 2003 by the Chief Secretary to the Treasury, Paul Boateng. This paper will begin by highlighting the conditions that led to the publishing of this Green paper. A brief overview of the policy paper will be given and an examination of the rationale of the policy provided. The purpose that the policy serves shall also be looked into and an analysis of the implications of the policy for teachers, curriculum and pedagogy considered. The paper will also evaluate curriculum changes that have resulted from the policy and provide an understanding of the practical implications of the policy within the educational institute.\n",
    "\n",
    "We will write a custom essay specifically for you for only $16.05 $11/page\n",
    "302 certified writers online\n",
    "Events leading to the Policy Paper\n",
    "The tragic case of Victoria Climbié was the single most significant event that prompted the formation of the Every Child Matters policy paper. In the Climbié tragedy, the 8year old girl, Victoria Climbié was abused continuously by her guardians resulting in her death. Her death prompted an inquiry into the child protection system that had obviously failed to prevent this tragedy. Findings by the inquiry were compiled in the Lord Laming’s report which looked at the death of Victoria Climbié in detail. Lord Laming’s report discovered that there were numerous instances where Climbié’s abuse could have been discovered and corrective measures taken. The report noted that the organizations which were in a position to notice this signs (the local church, the police and social services) were badly run and they failed to notice Climbié’s abuse. This incompetence resulted in the premature death of the 8year old in the hands of her guardians.\n",
    "\n",
    "Prior to the Climbié case, the government had been addressing issues of child security issues in Britain. The Climbié case highlighted the fact that these efforts were not as sufficient. The “Every Child Matters” paper noted that despite previous government efforts, there was need to do more since as the death of Victoria Climbié showcased, current efforts were inadequate (DfES 2003). Propositions were therefore raised on measures that can be taken up both to guard children and make sure each child accomplishes their potential.\n",
    "\n",
    "Brief Summary of “Every Child Matters”\n",
    "The idea which forms the core of the Green Paper is service for children as is the provision of services to meet the needs of children. This is highlighted in the assertion in the Green Paper that “we want to put children at the heart of our policies and to organize services around their needs” (DfES 2003, p.9). The Green Paper goes on to specify how services can be made more accessible to the children. A key aspect of the policy is its insistence on the primacy of child protection. In his introduction to the Green Paper, Every Child Matters, Paul Boateng stated that “Child Protection must be a fundamental element across all public, private and voluntary organizations. Equally we must be ambitious for all children whoever they are and wherever they live” (DfES 2003 p.3). From this assertion, it is clear that the policy advocates for the indiscriminate addressing of child issues.\n",
    "\n",
    "The Green paper was able to build on active plans to reinforce defensive services by focusing on four very important key matters. These matters are; supporting families and careers, as they are the most significant authority and their action will have an impact on children’s lives. In addition to that, there will be a certain need to guarantee that will be a compulsory interference before children arrive at disaster point and guard the vulnerable children from diminishing through the net.\n",
    "\n",
    "Education is given due relevance in the Green Paper since there is a well established relationship between educational achievement and a person’s well being. Research clearly indicates that educational achievement is the single most important way of improving the economic outcome of children who hail from a poor background. It is only through education that these poor children can break the cycle of deprivation and lead a comfortable life.\n",
    "\n",
    "In as much as the Green Paper was triggered by the issues raised in the Laming Report, the paper took a more in-depth look at the situation. Kirk and Broadhead (2007) note that Every Child Matters dealt with more extensive issues in addition to those investigated and reported in the Laming Report. The Green Paper made a call for critical and inclusive change throughout Britain’s Child Care policies.\n",
    "\n",
    "Get your 100% original paper on any topic\n",
    "done in as little as 3 hours\n",
    "The Paper also proposed some workforce Reforms aimed at improving the skills and efficiency of the children’s workforce. The proposals were meant to address recruitment and retention within the children services professions. The Green Paper states that it is of great importance to ensure that these professionals who are working with children are appreciated, rewarded and well trained, so as to enable them to do their job in a better way.\n",
    "\n",
    "Benefits of the Policy\n",
    "The Green Paper noted that some deep underlying issues that were identified following the Victoria Climbié Inquiry report were weak liability, and poor incorporation within the different organizations. In response to this, the government has made attempts to improve the focal point on avoidance through the child poverty scheme, such as ‘Sure Start’ which is aimed at raising school standards (Jones 2007). As a result of the Green Paper, there is a holistic framework of services for children and young people aged 0-19 in England.\n",
    "\n",
    "A key finding in the Laming Report 2003 was that there was ineffective communication between professionals and across agencies which were responsible for the welfare and safety of Victoria Climbié. Ever Child Matters promotes collaborative working among various organizations to ensure that the welfare of the children is safeguarded.. The Children Act 2004 which was introduced in part as a result of Climbié’s death and the Green paper stated that it was the duty of agencies to co-operate. Ken (2005) asserts that Every Child Matters provided a major confront as schools will need to: work together with a variety of agencies on individual enhancement plans and programmers; guarantee students obtain fast and suitable sustained help when there are problems or even as being in difficulty; contribute in the surveillance, this is all should be part of good practice\n",
    "\n",
    "Impact of Green Paper on School Policy\n",
    "The Green Paper touched on the subject of Children health since it was discovered that being healthy was one of the outcomes which mattered the most to children and young people. Hunter and Payne (2007) explained that, it is to be enjoying good physical and psychological health and living a healthy lifestyle, this should not only be at home but at school as well. Most schools nowadays encourage the healthy food menu; most schools will sometimes have a fruit as a healthy snack for the children in the morning. A Teacher from a Local school revealed that:\n",
    "\n",
    "We hold the national standard for national healthy schools, and promote healthy eating and choices to the children through the PSHE (Personal, social, health and economic) and SEAL (Social and Emotional Aspects of Learning) (SEAL) curriculum. (Teacher 1 appendix 2)\n",
    "\n",
    "This is a significant change from the pre-Green Paper era where teachers were not obligated to take proactive measures to promote healthy eating and choices among children.\n",
    "\n",
    "The Green Paper also stipulated that the safety of the children should be guaranteed. Children have the right to be protected from harm, neglect, aggression and sexual abuse, unintentional wounds and death, harassment and prejudice, offences and anti-social behavior (France & Sutton 2007). This safety should be guaranteed both within the school setting and out of it. These declarations were fueled by the murder of Climbié which was as a direct result of the neglect of the child by childcare service providers. Educators are therefore required to listen to children more and to ensure that they are safe. A teacher from a local school declares that:\n",
    "\n",
    "We will write a custom essays specifically for you!\n",
    "Get your first paper with 15% OFF\n",
    "We regularly train teachers to notice signs of abuse and have rigorous safeguarding procedures whereby we liaise with outside agencies e.g. social services and police. We have had assemblies to teach children what it means to be safe at home, at school and when using communication technologies, and what to do if they feel unsafe (Teacher 2 see full appendix 3)\n",
    "\n",
    "This new practices have a huge impact in that children are now better empowered both to recognize abuses perpetrated against them and take up appropriate action.\n",
    "\n",
    "The Green Paper also stressed on having children involved with the community at some level and making a positive contribution to society. France and Sutton (2007) stated that by integrating children into society and giving them a sense of community and society, they can be deterred from involving themselves in anti-social or criminal behavior. This is well in line with Vygotsky’s social development theory which proposes that the social interaction of the child plays a very important role in the cognitive development. Vygotsky asserts that children are influenced greatly by adults with how they interact both in and out of the school setting. This integration can be done by: engaging them in choice making and supporting the community and environment, engaging in law enduring and optimistic actions in and out of school, choosing not to intimidate or categorize, and developing self-confidence. Schools have embraced this policy as can be seen from the revelation by a Local school teacher that;\n",
    "\n",
    "We promote this aspect by providing roles whereby children can contribute to the school in positive ways. We have a school council and playground friends, prefects and a head boy and girl. These roles give a sense of real ownership and children value seeing the affect their positive contribution has – e.g. obtaining new blinds for the classroom and new playground resources. (Teacher 2 appendix 3).\n",
    "\n",
    "Giving children a sense of ownership is significant in that it reduces their probability of taking up deliquescent behavior.\n",
    "\n",
    "The prevailing economic realities played a role in the Climbié case. In particular, the little girl hailed from a poor family and this contributed to the neglect and abuse that Climbié experienced. DfES (2003, p.18) asserted that “the socio-economic position of parents affects children from a very early age”. The Green Paper therefore proposed that the government built on the successes of programs such as the Sure Start. The Green Paper called for provision of grants by the government to try and close the gap between social classes. In addition to this, schools can take part in activities that empower the students financially. A teacher at a local school reveals that they “hold money weeks and carry out projects in which children work out how to make a profit from selling various good for example at the school fair (Teacher 1 Appendix 2). In addition to this, the Green Paper highlighted that learners should be engaged in further education, employment or preparation when they leave school, so they will be ready for work.\n",
    "\n",
    "In order to achieve the proposed solutions in the Green paper, there has to be a fundamental transformation within organizations. Only through transformation can the notion of child protection being an elementary component across all public, private and voluntary organizations be achieved (France & Sutton 2007). Kirk and Broadhead (2007) reveal that teachers will be able to transfer students with problems that cannot be spoken to inside the classroom to the numerous shapes of experts that there are to support within the school or willingly be contacted by the school. These are; the counselor, the learning and behavior specialist, the mentor, the speech therapist, the family association worker, health visitors, social workers, and the school nurse. These professionals will create a specialized network which will sustain the students’ well being resulting in advancement and happiness.\n",
    "\n",
    "Every Child Matters Policy and the Curriculum\n",
    "Brief Introduction to the curriculum\n",
    "A Curriculum and is defined by Hirst as “A program of activities designed so that pupils will attain, as far as possible certain educational ends and objectives” (Taylor & Johnson 1974; Hirst 1968). There are various types of curriculum within the Educational context. Kelly (2009) outlines these classifications as: the educational curriculum; the total curriculum; the ‘hidden’ curriculum; the planned curriculum, the received curriculum; and lastly the formal curriculum and the informal curriculum. The overall curriculum comprises of these various curriculums and it is the frame work which guides teachers to what they should do to teach at the different stages of learning.\n",
    "\n",
    "Need a 100% original paper written from scratch by professional specifically for you?\n",
    "302 certified writers online\n",
    "Impact of the policy on the Curriculum\n",
    "As a result of the Every Child Matters policy and other policies put in place by the government, there have been significant changes to the National Curriculum. Wrigley (2006) stated that the National Curriculum is now increased by a variety of “strategies”. These strategies are to stretch across the whole curriculum. He also emphasized that, the old National Curriculum provided a border line of what should be taught at the end of each stage, regardless of whether it is unsuitable for the age group or for the need of a particular learner and, does not even take into account the interests for those learners. Such a move fails to take into consideration the thoughts advanced by Bandura’s self-efficacy theory. In this theory, Bandura advances that a person’s attitude and abilities play a crucial way to the way they perceive situations and consequently respond to them.\n",
    "\n",
    "The introduction of Every Child Matters policy had profound impact on teaching. These enormous impacts changed the manner in which things were done in the past. Some of these changes and development in some schools is the introduction of more PE lessons, swimming lessons, more creative art lessons, music lessons, singing lessons, and so many others activities which sometimes happen within the school hours or after school time. All these activities have put extra responsibilities for the educational institutes.\n",
    "\n",
    "Some of the changes were related to curriculum development and the training of teachers. These changes were hugely beneficial since they made teachers more aware of the cultural realities of students. In the past, teachers sometimes failed to understand the behavioral attitudes of some students who came from varied culture and family backgrounds. As a result of the development of the curriculum and the new teacher training, this problem has been mitigated. Wrigley (2006) reveals that new training has addressed the issues that teachers face including daily conflict and stress.\n",
    "\n",
    "When Every Child Matters and other policies were introduced by Tony Blair’s Government, they had a vital impact on the curriculums ideologies and underpinning values. White (1997) stated that, policies are to make schools good for the parents, who simply want the best for their children. Another way of curriculum development is the introduction of learning through play, Moyles (2005) emphasized that, it makes more sense to consider play as a process, as it has an vital effect on the behaviors, motivations and opportunities for the futures of the students.\n",
    "\n",
    "Despite having many positive attributes, the Green Paper had a number of contentious issues with regard to inter-professional teamwork and multi-agency working. To begin with, the paper has a degree which makes it difficult to implement the proposed solutions. Kirk and Broadhead (2007) highlight that Green Paper failed to elaborate on the degree to which the teacher’s expertise input into the educational progress of learners will necessitate change. While on one hand it is presumed that much of the multi-agency work will be assumed by non-teaching members of the school staff, it is inevitable that the teacher will be involved and engaging with those other professionals whose work intrudes directly on the classroom. Another issue is arising from the Green Paper is that teachers are required to be aware of the responsibilities and purposes of other members within the school. The reason for this is so that the teachers can be able to connect with the other members in problems that may influence the learning or the personality of the students. This has resulted in the teacher’s work being made even more difficult.\n",
    "\n",
    "As a result of proposals in the Green Paper, more freedoms within the educational activities and curriculum have been afforded. Dean (2009) confirms that there has been a loosening up which has been characterized by the abandonment of standardized and the expansion of suppleness. In addition to this, there has been an increase in the choices of alternative types of school and educational settings for the children. This is a major shift from the earlier days where education was standardized and compulsory for all students.\n",
    "\n",
    "The curriculum has been structured such that provides a variety of choices for the students. Dean (2009) emphasize that, when education and curriculum should take place in the lifetime, the varieties of choices should be all in the interests of facilitating learners. The curriculum does this therefore appealing to the students since it helps them achieve their unique ambitions. Such a structure is well inline with the reinforcement theory. Reinforcement theory borrows from the assertion by the renowned psychologist B. F. Skinner that “behavior is a function of its consequences” (Burns, 1995). The reinforcement theory proposes that a learner is likely to repeat an action that brings about a pleasant consequence.\n",
    "\n",
    "The Green Paper emphasizes personalization of education to suit the needs of the students. Through personalization, teachers are at times required to influence education around the way the diverse young people learn and to encourage the exclusive abilities of every student (DfES 2004). Rowe (2006) asserts that personalized educational service should be the one, which influences associations between schools and learners. This will enable educational experiences to be more interesting, thus increasing the possibility that learners become much more vigorous and eager contributors in the development of their potentials and outlooks. In addition to this, the Green Paper calls for the adoption of diverse teaching strategies since every child is unique and comes to the class setting with varying knowledge base and skill set. This emphasis on diverse teaching strategies is beneficial to the child but it creates a burden to the teacher.\n",
    "\n",
    "Ever Child Matters policy has further broadened the responsibilities of teachers. While in their past their role was confined to teaching, their job now includes ensuring that children are safe and mentoring the children. The teacher is required to understand and release the learners’ needs, find their favorites and aspirations. As such, a teacher will become advisors, supporters and a guide to the student.\n",
    "\n",
    "The Green Paper has changed the way professionals look at curriculum development, and the aims of education. In early years of education and possibly during the primary school, learning has been promoted and the curriculum has been arbitrated by a solitary professional sometimes relying on the input of expert curricular or knowledge expertise (Kirk & Broadhead 2007). This has changed with the Green Paper and now, the country, through the National Curriculum, is positioned to compare itself on an international context. The best-performing education nations are not the benchmarks against which England schools gauge themselves and learn so as to acquire the best means to assist children to perform even better (Oates 2010). Looking at different curriculums form other countries is a good way for benchmarking, however, it leaves policy makers and educational institutes in ongoing challenges at all times.\n",
    "\n",
    "By contrast Kirk and Broadhead (2007) stated that, secondary school teachers undergo a development of specialized socialization, this underpins strong commitment to the subject, therefore, Every Child Matters is thought to present difficult questions. Teachers need to be more flexible and more open minded, however, will the subject teaching expertise have reduced importance; will such a change of emphasis deteriorate the Every Child Matters force to fight shortage and disadvantage by raising levels of accomplishment? They also emphasized that, The Every Child Matters agenda marks, to a significant degree, a welcome return to an education that makes common sense, and the foreword of personalization is nothing more or less than evidences of the values of learner centered education.\n",
    "\n",
    "Edwards (2007) assured that, curriculums, teachers training and experience directed them to support as fundamental to their work in the classroom and to their commencement of professional life. in addition, Petty (2004) emphasized that, to be able to be a professional teacher, there is a need to have a tools kit; varieties of teaching methods, resources, languages used, presentations skills and ICT, all these are ways to meet the learners needs and Every Child Matters should be taken into account when teachers are preparing, given the way assessing the students is done.\n",
    "\n",
    "Every Child Matters is keen about the learners’ identities. Schools and professionals needs to understand that they have to balance the school’s role and to take into consideration the various unique realities that the students face. For example, some children’s experiences of racism and other issues that matters to them. This thought is shared by the ESRC (2009) which agreed that, mixed-heritage children are a vital group for some areas.\n",
    "\n",
    "Within many communities which have multi-cultural backgrounds, faith can be a key determinant in their life. Due to the policy and as a way of curriculum development the introductions of lessons and conferences of multi-faith is essential for all students, as students should feel happy with their faith background, and as a result everything else falls into place. Young people can then have an ‘integrated plural identity’ and be ‘skilled cultural and faith navigators.’ When students are allowed to be proud of their religious and cultural heritage in school, they can perform better since they no longer have to fend off people who make fun of them. This will bring about mutual respect which will yield tolerance. From experience, students who are Muslim for example, do not have to hide any more that they have to fasting Ramadan month. In addition, students at school are entitled to have religious holidays at certain times within the academic year, and a faith room to practice their religion. Further on, teachers within any educational establishments should know and have a faith calendar, which allows them to know when their students will be away from the class.\n",
    "\n",
    "Every Child Matters had encouraged students to open up, talk and be proud of cultures and beliefs, embedding some of these issues within the curriculum has encouraged and showed that, teachers and everyone who works directly or indirectly should be more respectful of others’ religions. Also from experience, some schools in the UK will have an event for the Chinese New Year as well as others events, and may ask parents who come from this culture to bring different cuisines. This encourages students to try something different and to appreciate diversity. Ken (2005) stated that, teachers and curriculums consequently must contribute in a culture of information input. Moreover, teachers are in a place, which makes the foundation of their communications with children; add to a more smoothed picture of a child’s needs and how these needs are met. In other words to sense the connections between teachers and teaching assistants and other agencies is bound to engage close and progressing professional exchange about the different learners.\n",
    "\n",
    "Problems in the Policy Paper\n",
    "One of the considerations of the Green Paper was to find visions from all peoples as to what could be done to better secure the future of children. As a matter of fact, the Green Paper, Every Child Matters (DfES 2003) was arrived at through consultation with children and young people. Even so, the paper failed to speak to those very important groups of staff and experts who are devoted to meet the children’s’ needs. This is despite the fact that the government has for decades recognized the commitment of this group in putting the needs of children first.\n",
    "\n",
    "Every Child Matters policies can create some tensions which might have an impact on teachers. Edwards (2007) states that, our knowledge base of the curriculum can be interpreted in different ways at different stages of educational provision. For many teachers, the pressure and increase workload which is a result of the Green Paper may have negative repercussions on the teacher directly or in their private (communal and family) life. While traditionally assessment and planning lessons were the two main time consuming everyday jobs for the teacher, the teacher now has to deal with more issues. The teacher might be unable to divide the home and family life from the school life due to the changing roles of the teacher as have been highlighted above.\n",
    "\n",
    "While the Green Paper tried to cover many of the issues that face children, it failed to effectively address issues concerning minority groups. In addition, Ball (1994) reveals that a good polity is one that covers as much of an issue as is possible. The Every Child Matters Policy fails to meet this criterion. Using disabled children and immigrant children as an example, there is a raising question of, how the school should deal with these issues, which make the job of everyone who works at any educational institutes very difficult.\n",
    "\n",
    "Discussion\n",
    "Children are the future of any country and in order to ensure the future prosperity of the country, the safety and success of children must be guaranteed. The Green Paper “Every Child Matters” purposed to ensure this by giving a set of proposals that if implemented would avoid incidents such as the tragic death of Victoria Climbié. The Green Paper intended to transform the delivery of children’s services in Britain by proposing reforms that were to be implemented in the children’s services. To this end, Green Paper succeeded since most of the policies it advocated for were taken up by the government and implemented through various agencies.\n",
    "\n",
    "The interview with the teachers confirmed the importance of the policy in practical terms. Both teachers interviewed acknowledged that the Green Paper made them to come up with better strategies to encourage children to be safe. Such strategies included holding of discussions on how to be safe as well as encouraging children to recognize and speak out in case of abuse or neglect. Every Child Matter Policy has also made the teachers more in touch with their students in matters other than academics. The Green Paper therefore is a positive step in focusing the minds of all practitioners who work with children on what are basic human rights for all.\n",
    "\n",
    "While there are many favorable outcomes from the Every Child Matters Policy as it has required curriculum development and changes, most of which are beneficial to the children’s future, there are still some issues. There have been some critiques concerning how far the curriculum should be changed to for example to suit the needs of disabled children. Sloper, et al., (2009) highlights this issue by stating that it is hard to define “achievement” for a child who has a degenerative condition that is leading to deterioration in his/her abilities.\n",
    "\n",
    "The Every Child Matters policy is plagued by some problems which may decrease its positive impact. Overall Every Child Matters requires many improvements, so it will be able to service its proposals. Most of these problems relate to the new role that teachers have to play in schools. The increased work load may decrease the efficiency of the teachers therefore hurting the performance of children. The Green Paper calls for all who engage with children and young people to play an active role in ensuring the safety of the children. While this is a noble cause, teachers are sometimes overwhelmed by the primary task of teaching and imposing more duties on them makes their work even more difficult.\n",
    "\n",
    "While the policies brought about by the Green Paper have their shortcomings, it can be authoritatively stated that the policies have resulted in better security for children both from harm and neglect by their guardians. As a result of the policy, there is greater inter-agency working which has resulted in a shared understanding of how to safeguard children at risk. Despite the obligation imposed on different organizations to create effective lines of communication with other agencies been seen as burdensome by some, it has had the favorable outcome of promoting the safety of children.\n",
    "\n",
    "Conclusion\n",
    "This paper set out to analyze the Green Paper Every Child Matters so as to assess the impact that the paper has had on education in England. The paper began by highlighting the realities that led to the coming up of the policy. This essay addressed the Every Child Matters policy, including a summary of the policy, an examination of the rationale of the policy, and a discussion of how the policy played a part in the curriculum and innovation which lead to improvement in teaching and learning. From this paper, it is clear that the Green Paper resulted in major changes in policies that relate to how children are dealt with in various setting. The various agencies which deal with children were required to be more active in ensuring that child safety and well-being is achieved.\n",
    "\n",
    "Through the interviews conducted on two teachers in local schools, this paper has highlighted what the Green Paper means in practical terms within the educational institute. From the discussions presented in this paper, it is clear that the Green Paper “Every Child Matters” has had a profound impact on education in England. The Every Child Matters policy takes this matter into consideration and therefore proposes changes that will positively impact the lives of children. Through Every Child Matters, every child is given an opportunity to fulfill their potential and become productive members of the society.\n",
    "\n",
    "References\n",
    "Ball, S 1994, Education Reform, A critical and post-structural approach, Buckingham: Open University Press.\n",
    "\n",
    "Burns, R 1995, The Adult Learner at Work, Sydney: Business and Professional Publishing.\n",
    "\n",
    "Dean, J 2009, Organising Learning in The Primary School Classroom, 4th Edition, New York, Routledge.\n",
    "\n",
    "DfES, 2003, Every Child Matters. UK Government Green Paper, Cm 5860. London, HMSO.\n",
    "\n",
    "DfES, 2004, Every Child Matters: Next Steps, London: Crown.\n",
    "\n",
    "Edwards, A 2007, “Collaborative Approaches to Preparing Effective Teachers: Implications for Research”, Keynote address at the Joint UCET/HMI/STEC Symposium, Glasgow, Web.\n",
    "\n",
    "France, A & Sutton, L 2007, Staying Safe: The implications for youth work of Every Child Matters, Research Programme Series.\n",
    "\n",
    "Hunter, B & Payne, B 2007, Being Healthy: The implications for youth work of Every Child Matters, Research Programme Series.\n",
    "\n",
    "Jones, G 2007, Economic Wellbeing: The implications for youth work of Every Child Matters, Research Programme Series.\n",
    "\n",
    "Kelly, A V2009, The Curriculum Theory and Practice, 6th Edition, London: Sage.\n",
    "\n",
    "Ken, R 2005, The Implications of Every Child Matters and the Children Act for Schools, Web.\n",
    "\n",
    "Kirk, G & Broadhead, P 2007, Every Child Matters and Teacher Education: A Ucet Position Paper, Universities Council for the Education of Teachers, Occasional Paper No17.\n",
    "\n",
    "Moyles, J 2005, The Excellence of Play, second edition, Maidenhead: Open University Press.\n",
    "\n",
    "Oates,T 2010, Could do better: Using international comparisons to refine the National Curriculum in England, Web.\n",
    "\n",
    "Rowe, L 2006, Every Child Matters: the role of the teacher in the changing context, Paper presented at the TDA conference, London.\n",
    "\n",
    "Sloper, P Beresford, B & Rabiee, P 2009, “Every Child Matters outcomes: what do they mean for disabled children and young people?” Children & Society, 23, 4, 265-278.\n",
    "\n",
    "Taylor, PH & Johnson M 1974, Curriculum Development, NFER.\n",
    "\n",
    "The National Youth Agency, 2011, The contribution of youth work to the Every Child Matters Outcomes Introduction, Web.\n",
    "\n",
    "White, R 1997, Curriculum Innovation A Celebration of Classroom Practice, Buckingham: Open University Press.\n",
    "\n",
    "Wrigley, R 2006, Another School is possible, London, Bookmarks Publications and Trentham Books.\n",
    "\n",
    "Smoking and Cognitive Dissonance Theory\"\"\"\n",
    "\n",
    "text = texts.split()\n",
    "print(len(text))"
   ]
  },
  {
   "cell_type": "code",
   "execution_count": 66,
   "id": "2e764bae-4df3-4fe4-81dc-015f391457a1",
   "metadata": {},
   "outputs": [],
   "source": [
    "nlp = spacy.load(\"en_core_web_md\")\n"
   ]
  },
  {
   "cell_type": "markdown",
   "id": "3ad71adc-c4f2-45e1-90b6-5018f834acc5",
   "metadata": {},
   "source": [
    "Using all cores of the CPU"
   ]
  },
  {
   "cell_type": "code",
   "execution_count": 67,
   "id": "d12dafc8-b14d-4190-a985-d85c6e2f8a51",
   "metadata": {},
   "outputs": [
    {
     "name": "stdout",
     "output_type": "stream",
     "text": [
      "CPU times: user 2.58 s, sys: 171 ms, total: 2.75 s\n",
      "Wall time: 3.14 s\n"
     ]
    }
   ],
   "source": [
    "%%time\n",
    "\n",
    "# s_time = time.time()\n",
    "p = [d for d in nlp.pipe(text, n_process=-1)]\n",
    "# print(\"Time taken to process:    \",time.time()-s_time)"
   ]
  },
  {
   "cell_type": "markdown",
   "id": "6a89cec9-8e29-41e6-8d52-9cb84481b5b1",
   "metadata": {},
   "source": [
    "without using multiprocessing"
   ]
  },
  {
   "cell_type": "code",
   "execution_count": 68,
   "id": "4df63d8e-a3c4-4b29-8d31-ed7d1b864750",
   "metadata": {},
   "outputs": [
    {
     "name": "stdout",
     "output_type": "stream",
     "text": [
      "CPU times: user 3.14 s, sys: 70.4 ms, total: 3.21 s\n",
      "Wall time: 3.21 s\n"
     ]
    }
   ],
   "source": [
    "%%time\n",
    "\n",
    "# s_time = time.time()\n",
    "p = [d for d in nlp.pipe(text)]\n",
    "# print(\"Time taken to process:    \",time.time()-s_time)"
   ]
  },
  {
   "cell_type": "markdown",
   "id": "e08ed393-514b-4da9-a6a2-99501194ff3f",
   "metadata": {},
   "source": [
    "### By increasing the batcg size"
   ]
  },
  {
   "cell_type": "code",
   "execution_count": 73,
   "id": "d8b33333-3260-4b5f-aa0d-fd730ccbd8ad",
   "metadata": {},
   "outputs": [
    {
     "name": "stdout",
     "output_type": "stream",
     "text": [
      "CPU times: user 1.43 s, sys: 161 ms, total: 1.59 s\n",
      "Wall time: 3.86 s\n"
     ]
    }
   ],
   "source": [
    "%%time\n",
    "\n",
    "# s_time = time.time()\n",
    "p = [d for d in nlp.pipe(text, n_process=-1, batch_size=2000)]\n",
    "# print(\"Time taken to process:    \",time.time()-s_time)\n"
   ]
  },
  {
   "cell_type": "code",
   "execution_count": 82,
   "id": "c163bf6a-1552-46d0-aada-a4c16db2cdf1",
   "metadata": {},
   "outputs": [
    {
     "name": "stdout",
     "output_type": "stream",
     "text": [
      "CPU times: user 1.44 s, sys: 121 ms, total: 1.56 s\n",
      "Wall time: 2.88 s\n"
     ]
    }
   ],
   "source": [
    "%%time\n",
    "p = [d for d in nlp.pipe(text, n_process=-1, batch_size=2000, disable=[\"tok2vec\", \"tagger\", \"parser\", \"attribute_ruler\", \"lemmatizer\"])]\n"
   ]
  },
  {
   "cell_type": "code",
   "execution_count": null,
   "id": "233f46fd-e055-4c15-ad86-32a397c00351",
   "metadata": {},
   "outputs": [],
   "source": []
  },
  {
   "cell_type": "markdown",
   "id": "369517ab-0988-48d9-ad93-5c0dfa94f37c",
   "metadata": {
    "tags": []
   },
   "source": [
    "### Without Disabling the components:"
   ]
  },
  {
   "cell_type": "code",
   "execution_count": 79,
   "id": "a7a319f8-3b92-4928-b78d-d2cfcf4e0e0e",
   "metadata": {},
   "outputs": [
    {
     "name": "stdout",
     "output_type": "stream",
     "text": [
      "CPU times: user 2.62 s, sys: 10 ms, total: 2.63 s\n",
      "Wall time: 2.63 s\n"
     ]
    }
   ],
   "source": [
    "%%time\n",
    "\n",
    "p = [d for d in nlp.pipe(text)]"
   ]
  },
  {
   "cell_type": "markdown",
   "id": "4e1309db-06e9-4750-8cd2-8f3c8fcf9f37",
   "metadata": {},
   "source": [
    "### Disabling the Components:"
   ]
  },
  {
   "cell_type": "code",
   "execution_count": 80,
   "id": "70af0e04-3f43-478f-ae2a-d0880e00ff42",
   "metadata": {},
   "outputs": [
    {
     "name": "stdout",
     "output_type": "stream",
     "text": [
      "CPU times: user 1.43 s, sys: 15.1 ms, total: 1.45 s\n",
      "Wall time: 1.45 s\n"
     ]
    }
   ],
   "source": [
    "%%time\n",
    "\n",
    "p = [d for d in nlp.pipe(text, disable=[\"tok2vec\", \"tagger\", \"parser\", \"attribute_ruler\", \"lemmatizer\"])]"
   ]
  },
  {
   "cell_type": "code",
   "execution_count": null,
   "id": "b1ec83d0-8104-47e2-9cb0-c687e52c5f58",
   "metadata": {},
   "outputs": [],
   "source": []
  }
 ],
 "metadata": {
  "kernelspec": {
   "display_name": "Python 3 (ipykernel)",
   "language": "python",
   "name": "python3"
  },
  "language_info": {
   "codemirror_mode": {
    "name": "ipython",
    "version": 3
   },
   "file_extension": ".py",
   "mimetype": "text/x-python",
   "name": "python",
   "nbconvert_exporter": "python",
   "pygments_lexer": "ipython3",
   "version": "3.9.13"
  }
 },
 "nbformat": 4,
 "nbformat_minor": 5
}
