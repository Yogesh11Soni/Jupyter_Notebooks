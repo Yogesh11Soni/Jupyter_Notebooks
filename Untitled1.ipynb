{
 "cells": [
  {
   "cell_type": "code",
   "execution_count": null,
   "id": "e8392d65",
   "metadata": {},
   "outputs": [],
   "source": [
    "import ray\n",
    "from ray.util.queue import Queue\n",
    "\n",
    "q = Queue()\n",
    "\n",
    "@ray.remote\n",
    "class Customer():\n",
    "    def __init__(self,name,adhaar) -> None :\n",
    "        self.customer_name = name\n",
    "        self.customer_adhaar = adhaar\n",
    "        \n",
    "        \n",
    "    def customer_add(self,queue) -> str:\n",
    "        queue.put(f'Cust)"
   ]
  }
 ],
 "metadata": {
  "kernelspec": {
   "display_name": "Python 3 (ipykernel)",
   "language": "python",
   "name": "python3"
  },
  "language_info": {
   "codemirror_mode": {
    "name": "ipython",
    "version": 3
   },
   "file_extension": ".py",
   "mimetype": "text/x-python",
   "name": "python",
   "nbconvert_exporter": "python",
   "pygments_lexer": "ipython3",
   "version": "3.8.10"
  }
 },
 "nbformat": 4,
 "nbformat_minor": 5
}
